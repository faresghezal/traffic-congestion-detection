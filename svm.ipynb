{
 "cells": [
  {
   "cell_type": "code",
   "execution_count": 1,
   "id": "37bc06c6-5a5f-4fcf-a962-b10b54c3f480",
   "metadata": {},
   "outputs": [
    {
     "data": {
      "text/html": [
       "<div>\n",
       "<style scoped>\n",
       "    .dataframe tbody tr th:only-of-type {\n",
       "        vertical-align: middle;\n",
       "    }\n",
       "\n",
       "    .dataframe tbody tr th {\n",
       "        vertical-align: top;\n",
       "    }\n",
       "\n",
       "    .dataframe thead th {\n",
       "        text-align: right;\n",
       "    }\n",
       "</style>\n",
       "<table border=\"1\" class=\"dataframe\">\n",
       "  <thead>\n",
       "    <tr style=\"text-align: right;\">\n",
       "      <th></th>\n",
       "      <th>Unnamed: 0</th>\n",
       "      <th>incident_id</th>\n",
       "      <th>cc_code</th>\n",
       "      <th>timestamp</th>\n",
       "      <th>description</th>\n",
       "      <th>latitude</th>\n",
       "      <th>longitude</th>\n",
       "      <th>district</th>\n",
       "      <th>freeway_nmbr</th>\n",
       "      <th>freeway_direction</th>\n",
       "      <th>state_postmile</th>\n",
       "      <th>abs_postmile</th>\n",
       "      <th>duration</th>\n",
       "      <th>up_id</th>\n",
       "      <th>up_lanes</th>\n",
       "      <th>up_distance</th>\n",
       "      <th>up_latitude</th>\n",
       "      <th>up_longitude</th>\n",
       "      <th>down_id</th>\n",
       "      <th>down_lanes</th>\n",
       "      <th>down_distance</th>\n",
       "      <th>down_latitude</th>\n",
       "      <th>down_longitude</th>\n",
       "      <th>active_onramp</th>\n",
       "      <th>active_offramp</th>\n",
       "    </tr>\n",
       "  </thead>\n",
       "  <tbody>\n",
       "    <tr>\n",
       "      <th>0</th>\n",
       "      <td>0</td>\n",
       "      <td>16175990</td>\n",
       "      <td>SAHB</td>\n",
       "      <td>2016-01-01 16:30:00</td>\n",
       "      <td>1179-Trfc Collision-1141 Enrt</td>\n",
       "      <td>38.280275</td>\n",
       "      <td>-121.456931</td>\n",
       "      <td>3.0</td>\n",
       "      <td>5</td>\n",
       "      <td>N</td>\n",
       "      <td>NaN</td>\n",
       "      <td>497.1</td>\n",
       "      <td>70.0</td>\n",
       "      <td>317393</td>\n",
       "      <td>2</td>\n",
       "      <td>-1.607</td>\n",
       "      <td>38.257363</td>\n",
       "      <td>-121.448669</td>\n",
       "      <td>319227</td>\n",
       "      <td>2</td>\n",
       "      <td>0.101</td>\n",
       "      <td>38.281219</td>\n",
       "      <td>-121.457043</td>\n",
       "      <td>False</td>\n",
       "      <td>False</td>\n",
       "    </tr>\n",
       "    <tr>\n",
       "      <th>1</th>\n",
       "      <td>1</td>\n",
       "      <td>16177033</td>\n",
       "      <td>SAHB</td>\n",
       "      <td>2016-01-02 13:25:00</td>\n",
       "      <td>1183-Trfc Collision-Unkn Inj</td>\n",
       "      <td>39.314110</td>\n",
       "      <td>-120.447967</td>\n",
       "      <td>3.0</td>\n",
       "      <td>80</td>\n",
       "      <td>W</td>\n",
       "      <td>NaN</td>\n",
       "      <td>170.6</td>\n",
       "      <td>60.0</td>\n",
       "      <td>317798</td>\n",
       "      <td>2</td>\n",
       "      <td>3.203</td>\n",
       "      <td>39.325458</td>\n",
       "      <td>-120.392564</td>\n",
       "      <td>319430</td>\n",
       "      <td>2</td>\n",
       "      <td>-5.605</td>\n",
       "      <td>39.310097</td>\n",
       "      <td>-120.544000</td>\n",
       "      <td>True</td>\n",
       "      <td>True</td>\n",
       "    </tr>\n",
       "    <tr>\n",
       "      <th>2</th>\n",
       "      <td>2</td>\n",
       "      <td>16177599</td>\n",
       "      <td>SAHB</td>\n",
       "      <td>2016-01-02 19:00:00</td>\n",
       "      <td>1182-Trfc Collision-No Inj</td>\n",
       "      <td>38.603209</td>\n",
       "      <td>-121.435469</td>\n",
       "      <td>3.0</td>\n",
       "      <td>51</td>\n",
       "      <td>S</td>\n",
       "      <td>NaN</td>\n",
       "      <td>4.0</td>\n",
       "      <td>40.0</td>\n",
       "      <td>318540</td>\n",
       "      <td>4</td>\n",
       "      <td>0.196</td>\n",
       "      <td>38.605475</td>\n",
       "      <td>-121.433198</td>\n",
       "      <td>314157</td>\n",
       "      <td>4</td>\n",
       "      <td>-0.271</td>\n",
       "      <td>38.600753</td>\n",
       "      <td>-121.438775</td>\n",
       "      <td>True</td>\n",
       "      <td>True</td>\n",
       "    </tr>\n",
       "    <tr>\n",
       "      <th>3</th>\n",
       "      <td>3</td>\n",
       "      <td>16182414</td>\n",
       "      <td>SAHB</td>\n",
       "      <td>2016-01-08 07:45:00</td>\n",
       "      <td>1179-Trfc Collision-1141 Enrt</td>\n",
       "      <td>38.343525</td>\n",
       "      <td>-121.335578</td>\n",
       "      <td>3.0</td>\n",
       "      <td>99</td>\n",
       "      <td>N</td>\n",
       "      <td>NaN</td>\n",
       "      <td>281.8</td>\n",
       "      <td>45.0</td>\n",
       "      <td>317652</td>\n",
       "      <td>2</td>\n",
       "      <td>-0.730</td>\n",
       "      <td>38.333162</td>\n",
       "      <td>-121.330741</td>\n",
       "      <td>317660</td>\n",
       "      <td>2</td>\n",
       "      <td>0.730</td>\n",
       "      <td>38.352842</td>\n",
       "      <td>-121.340605</td>\n",
       "      <td>False</td>\n",
       "      <td>False</td>\n",
       "    </tr>\n",
       "    <tr>\n",
       "      <th>4</th>\n",
       "      <td>4</td>\n",
       "      <td>16183558</td>\n",
       "      <td>SAHB</td>\n",
       "      <td>2016-01-08 17:10:00</td>\n",
       "      <td>1182-Trfc Collision-No Inj</td>\n",
       "      <td>38.560374</td>\n",
       "      <td>-121.481408</td>\n",
       "      <td>3.0</td>\n",
       "      <td>50</td>\n",
       "      <td>E</td>\n",
       "      <td>NaN</td>\n",
       "      <td>5.2</td>\n",
       "      <td>80.0</td>\n",
       "      <td>312139</td>\n",
       "      <td>5</td>\n",
       "      <td>-0.477</td>\n",
       "      <td>38.562532</td>\n",
       "      <td>-121.489560</td>\n",
       "      <td>318282</td>\n",
       "      <td>4</td>\n",
       "      <td>0.122</td>\n",
       "      <td>38.559773</td>\n",
       "      <td>-121.479137</td>\n",
       "      <td>True</td>\n",
       "      <td>False</td>\n",
       "    </tr>\n",
       "    <tr>\n",
       "      <th>...</th>\n",
       "      <td>...</td>\n",
       "      <td>...</td>\n",
       "      <td>...</td>\n",
       "      <td>...</td>\n",
       "      <td>...</td>\n",
       "      <td>...</td>\n",
       "      <td>...</td>\n",
       "      <td>...</td>\n",
       "      <td>...</td>\n",
       "      <td>...</td>\n",
       "      <td>...</td>\n",
       "      <td>...</td>\n",
       "      <td>...</td>\n",
       "      <td>...</td>\n",
       "      <td>...</td>\n",
       "      <td>...</td>\n",
       "      <td>...</td>\n",
       "      <td>...</td>\n",
       "      <td>...</td>\n",
       "      <td>...</td>\n",
       "      <td>...</td>\n",
       "      <td>...</td>\n",
       "      <td>...</td>\n",
       "      <td>...</td>\n",
       "      <td>...</td>\n",
       "    </tr>\n",
       "    <tr>\n",
       "      <th>447</th>\n",
       "      <td>447</td>\n",
       "      <td>16907027</td>\n",
       "      <td>SAHB</td>\n",
       "      <td>2016-12-26 13:05:00</td>\n",
       "      <td>1179-Trfc Collision-1141 Enrt</td>\n",
       "      <td>38.758050</td>\n",
       "      <td>-121.261450</td>\n",
       "      <td>3.0</td>\n",
       "      <td>80</td>\n",
       "      <td>E</td>\n",
       "      <td>3.087</td>\n",
       "      <td>104.6</td>\n",
       "      <td>65.0</td>\n",
       "      <td>318801</td>\n",
       "      <td>4</td>\n",
       "      <td>-0.126</td>\n",
       "      <td>38.756912</td>\n",
       "      <td>-121.262242</td>\n",
       "      <td>318844</td>\n",
       "      <td>4</td>\n",
       "      <td>0.070</td>\n",
       "      <td>38.759443</td>\n",
       "      <td>-121.260582</td>\n",
       "      <td>False</td>\n",
       "      <td>False</td>\n",
       "    </tr>\n",
       "    <tr>\n",
       "      <th>448</th>\n",
       "      <td>448</td>\n",
       "      <td>16908065</td>\n",
       "      <td>SAHB</td>\n",
       "      <td>2016-12-27 05:50:00</td>\n",
       "      <td>1179-Trfc Collision-1141 Enrt</td>\n",
       "      <td>38.249222</td>\n",
       "      <td>-121.290476</td>\n",
       "      <td>3.0</td>\n",
       "      <td>99</td>\n",
       "      <td>S</td>\n",
       "      <td>0.355</td>\n",
       "      <td>274.8</td>\n",
       "      <td>50.0</td>\n",
       "      <td>319100</td>\n",
       "      <td>2</td>\n",
       "      <td>0.350</td>\n",
       "      <td>38.253209</td>\n",
       "      <td>-121.292972</td>\n",
       "      <td>317640</td>\n",
       "      <td>2</td>\n",
       "      <td>-0.134</td>\n",
       "      <td>38.246918</td>\n",
       "      <td>-121.288935</td>\n",
       "      <td>False</td>\n",
       "      <td>False</td>\n",
       "    </tr>\n",
       "    <tr>\n",
       "      <th>449</th>\n",
       "      <td>449</td>\n",
       "      <td>16908856</td>\n",
       "      <td>SAHB</td>\n",
       "      <td>2016-12-27 14:15:00</td>\n",
       "      <td>1179-Trfc Collision-1141 Enrt</td>\n",
       "      <td>38.651912</td>\n",
       "      <td>-121.370190</td>\n",
       "      <td>3.0</td>\n",
       "      <td>80</td>\n",
       "      <td>W</td>\n",
       "      <td>R11.462</td>\n",
       "      <td>95.1</td>\n",
       "      <td>50.0</td>\n",
       "      <td>313368</td>\n",
       "      <td>6</td>\n",
       "      <td>0.200</td>\n",
       "      <td>38.653680</td>\n",
       "      <td>-121.368403</td>\n",
       "      <td>314165</td>\n",
       "      <td>2</td>\n",
       "      <td>-0.895</td>\n",
       "      <td>38.645422</td>\n",
       "      <td>-121.384400</td>\n",
       "      <td>False</td>\n",
       "      <td>False</td>\n",
       "    </tr>\n",
       "    <tr>\n",
       "      <th>450</th>\n",
       "      <td>450</td>\n",
       "      <td>16911088</td>\n",
       "      <td>SAHB</td>\n",
       "      <td>2016-12-28 18:05:00</td>\n",
       "      <td>1183-Trfc Collision-Unkn Inj</td>\n",
       "      <td>38.596708</td>\n",
       "      <td>-121.549171</td>\n",
       "      <td>3.0</td>\n",
       "      <td>80</td>\n",
       "      <td>W</td>\n",
       "      <td>R11.6</td>\n",
       "      <td>83.8</td>\n",
       "      <td>75.0</td>\n",
       "      <td>319142</td>\n",
       "      <td>3</td>\n",
       "      <td>0.477</td>\n",
       "      <td>38.603117</td>\n",
       "      <td>-121.544779</td>\n",
       "      <td>317885</td>\n",
       "      <td>3</td>\n",
       "      <td>-0.613</td>\n",
       "      <td>38.589094</td>\n",
       "      <td>-121.554290</td>\n",
       "      <td>False</td>\n",
       "      <td>False</td>\n",
       "    </tr>\n",
       "    <tr>\n",
       "      <th>451</th>\n",
       "      <td>451</td>\n",
       "      <td>16914823</td>\n",
       "      <td>SAHB</td>\n",
       "      <td>2016-12-30 18:45:00</td>\n",
       "      <td>1179-Trfc Collision-1141 Enrt</td>\n",
       "      <td>38.573264</td>\n",
       "      <td>-121.583082</td>\n",
       "      <td>3.0</td>\n",
       "      <td>80</td>\n",
       "      <td>E</td>\n",
       "      <td>8.9</td>\n",
       "      <td>81.1</td>\n",
       "      <td>75.0</td>\n",
       "      <td>316803</td>\n",
       "      <td>3</td>\n",
       "      <td>-1.966</td>\n",
       "      <td>38.567081</td>\n",
       "      <td>-121.617723</td>\n",
       "      <td>317028</td>\n",
       "      <td>3</td>\n",
       "      <td>0.033</td>\n",
       "      <td>38.573494</td>\n",
       "      <td>-121.581706</td>\n",
       "      <td>False</td>\n",
       "      <td>False</td>\n",
       "    </tr>\n",
       "  </tbody>\n",
       "</table>\n",
       "<p>452 rows × 25 columns</p>\n",
       "</div>"
      ],
      "text/plain": [
       "     Unnamed: 0  incident_id cc_code           timestamp  \\\n",
       "0             0     16175990    SAHB 2016-01-01 16:30:00   \n",
       "1             1     16177033    SAHB 2016-01-02 13:25:00   \n",
       "2             2     16177599    SAHB 2016-01-02 19:00:00   \n",
       "3             3     16182414    SAHB 2016-01-08 07:45:00   \n",
       "4             4     16183558    SAHB 2016-01-08 17:10:00   \n",
       "..          ...          ...     ...                 ...   \n",
       "447         447     16907027    SAHB 2016-12-26 13:05:00   \n",
       "448         448     16908065    SAHB 2016-12-27 05:50:00   \n",
       "449         449     16908856    SAHB 2016-12-27 14:15:00   \n",
       "450         450     16911088    SAHB 2016-12-28 18:05:00   \n",
       "451         451     16914823    SAHB 2016-12-30 18:45:00   \n",
       "\n",
       "                       description   latitude   longitude  district  \\\n",
       "0    1179-Trfc Collision-1141 Enrt  38.280275 -121.456931       3.0   \n",
       "1     1183-Trfc Collision-Unkn Inj  39.314110 -120.447967       3.0   \n",
       "2       1182-Trfc Collision-No Inj  38.603209 -121.435469       3.0   \n",
       "3    1179-Trfc Collision-1141 Enrt  38.343525 -121.335578       3.0   \n",
       "4       1182-Trfc Collision-No Inj  38.560374 -121.481408       3.0   \n",
       "..                             ...        ...         ...       ...   \n",
       "447  1179-Trfc Collision-1141 Enrt  38.758050 -121.261450       3.0   \n",
       "448  1179-Trfc Collision-1141 Enrt  38.249222 -121.290476       3.0   \n",
       "449  1179-Trfc Collision-1141 Enrt  38.651912 -121.370190       3.0   \n",
       "450   1183-Trfc Collision-Unkn Inj  38.596708 -121.549171       3.0   \n",
       "451  1179-Trfc Collision-1141 Enrt  38.573264 -121.583082       3.0   \n",
       "\n",
       "     freeway_nmbr freeway_direction state_postmile  abs_postmile  duration  \\\n",
       "0               5                 N            NaN         497.1      70.0   \n",
       "1              80                 W            NaN         170.6      60.0   \n",
       "2              51                 S            NaN           4.0      40.0   \n",
       "3              99                 N            NaN         281.8      45.0   \n",
       "4              50                 E            NaN           5.2      80.0   \n",
       "..            ...               ...            ...           ...       ...   \n",
       "447            80                 E          3.087         104.6      65.0   \n",
       "448            99                 S          0.355         274.8      50.0   \n",
       "449            80                 W        R11.462          95.1      50.0   \n",
       "450            80                 W          R11.6          83.8      75.0   \n",
       "451            80                 E            8.9          81.1      75.0   \n",
       "\n",
       "      up_id  up_lanes  up_distance  up_latitude  up_longitude  down_id  \\\n",
       "0    317393         2       -1.607    38.257363   -121.448669   319227   \n",
       "1    317798         2        3.203    39.325458   -120.392564   319430   \n",
       "2    318540         4        0.196    38.605475   -121.433198   314157   \n",
       "3    317652         2       -0.730    38.333162   -121.330741   317660   \n",
       "4    312139         5       -0.477    38.562532   -121.489560   318282   \n",
       "..      ...       ...          ...          ...           ...      ...   \n",
       "447  318801         4       -0.126    38.756912   -121.262242   318844   \n",
       "448  319100         2        0.350    38.253209   -121.292972   317640   \n",
       "449  313368         6        0.200    38.653680   -121.368403   314165   \n",
       "450  319142         3        0.477    38.603117   -121.544779   317885   \n",
       "451  316803         3       -1.966    38.567081   -121.617723   317028   \n",
       "\n",
       "     down_lanes  down_distance  down_latitude  down_longitude  active_onramp  \\\n",
       "0             2          0.101      38.281219     -121.457043          False   \n",
       "1             2         -5.605      39.310097     -120.544000           True   \n",
       "2             4         -0.271      38.600753     -121.438775           True   \n",
       "3             2          0.730      38.352842     -121.340605          False   \n",
       "4             4          0.122      38.559773     -121.479137           True   \n",
       "..          ...            ...            ...             ...            ...   \n",
       "447           4          0.070      38.759443     -121.260582          False   \n",
       "448           2         -0.134      38.246918     -121.288935          False   \n",
       "449           2         -0.895      38.645422     -121.384400          False   \n",
       "450           3         -0.613      38.589094     -121.554290          False   \n",
       "451           3          0.033      38.573494     -121.581706          False   \n",
       "\n",
       "     active_offramp  \n",
       "0             False  \n",
       "1              True  \n",
       "2              True  \n",
       "3             False  \n",
       "4             False  \n",
       "..              ...  \n",
       "447           False  \n",
       "448           False  \n",
       "449           False  \n",
       "450           False  \n",
       "451           False  \n",
       "\n",
       "[452 rows x 25 columns]"
      ]
     },
     "execution_count": 1,
     "metadata": {},
     "output_type": "execute_result"
    }
   ],
   "source": [
    "from sklearn.metrics import f1_score, accuracy_score, f1_score, precision_score, recall_score, classification_report, confusion_matrix\n",
    "from sklearn.compose import ColumnTransformer\n",
    "from sklearn.pipeline import Pipeline\n",
    "from sklearn.impute import SimpleImputer\n",
    "from sklearn.model_selection import GridSearchCV\n",
    "from sklearn.preprocessing import PolynomialFeatures, RobustScaler, StandardScaler\n",
    "from  sklearn import svm\n",
    "import pandas as pd\n",
    "import plotly.express as px\n",
    "import plotly.graph_objects as go\n",
    "import numpy as np\n",
    "import matplotlib.pyplot as plt\n",
    "from datetime import datetime, timedelta\n",
    "import warnings\n",
    "warnings.filterwarnings('ignore')\n",
    "acident_index_train=[31,35,36,45,50,52,55,56,60,67,68,69,76,78,84,90,91,92,94,95,96,98,100,102,103,106,109,116,117,120,121,123,128,129,130,131,132,133,136,138,145,147,148,151,152,153,154,155,159,161]\n",
    "acident_index_test=[162,166,170,171,173,174,176,177,180,181,184,187,188,189,190,193,197,198,199,201,202,204,205,212,213,216,218,219,220,221,226,231,233,236,240,241,242,243,244,252]\n",
    "trafic_data=pd.read_parquet(\"traffic_data.parquet\")\n",
    "incident=pd.read_csv(\"incidents.csv\")\n",
    "trafic_data[\"timestamp\"] = pd.to_datetime(trafic_data[\"timestamp\"])\n",
    "incident[\"timestamp\"] = pd.to_datetime(incident[\"timestamp\"])\n",
    "pd.set_option('display.max_columns', None)\n",
    "incident"
   ]
  },
  {
   "cell_type": "code",
   "execution_count": 2,
   "id": "e1493304-239b-40fd-8c77-1813114475a1",
   "metadata": {
    "tags": []
   },
   "outputs": [
    {
     "data": {
      "text/html": [
       "<div>\n",
       "<style scoped>\n",
       "    .dataframe tbody tr th:only-of-type {\n",
       "        vertical-align: middle;\n",
       "    }\n",
       "\n",
       "    .dataframe tbody tr th {\n",
       "        vertical-align: top;\n",
       "    }\n",
       "\n",
       "    .dataframe thead th {\n",
       "        text-align: right;\n",
       "    }\n",
       "</style>\n",
       "<table border=\"1\" class=\"dataframe\">\n",
       "  <thead>\n",
       "    <tr style=\"text-align: right;\">\n",
       "      <th></th>\n",
       "      <th>speed</th>\n",
       "      <th>occ</th>\n",
       "      <th>flow</th>\n",
       "      <th>station_id</th>\n",
       "      <th>current</th>\n",
       "      <th>day</th>\n",
       "      <th>hour</th>\n",
       "      <th>minute</th>\n",
       "      <th>dayofweek</th>\n",
       "    </tr>\n",
       "  </thead>\n",
       "  <tbody>\n",
       "    <tr>\n",
       "      <th>27830434</th>\n",
       "      <td>63.5</td>\n",
       "      <td>0.0596</td>\n",
       "      <td>136.0</td>\n",
       "      <td>317295</td>\n",
       "      <td>0</td>\n",
       "      <td>13</td>\n",
       "      <td>10</td>\n",
       "      <td>50</td>\n",
       "      <td>0</td>\n",
       "    </tr>\n",
       "    <tr>\n",
       "      <th>27830435</th>\n",
       "      <td>63.6</td>\n",
       "      <td>0.0573</td>\n",
       "      <td>125.0</td>\n",
       "      <td>317295</td>\n",
       "      <td>0</td>\n",
       "      <td>13</td>\n",
       "      <td>10</td>\n",
       "      <td>55</td>\n",
       "      <td>0</td>\n",
       "    </tr>\n",
       "    <tr>\n",
       "      <th>27830436</th>\n",
       "      <td>63.4</td>\n",
       "      <td>0.0606</td>\n",
       "      <td>134.0</td>\n",
       "      <td>317295</td>\n",
       "      <td>0</td>\n",
       "      <td>13</td>\n",
       "      <td>11</td>\n",
       "      <td>0</td>\n",
       "      <td>0</td>\n",
       "    </tr>\n",
       "    <tr>\n",
       "      <th>27830437</th>\n",
       "      <td>63.8</td>\n",
       "      <td>0.0606</td>\n",
       "      <td>138.0</td>\n",
       "      <td>317295</td>\n",
       "      <td>0</td>\n",
       "      <td>13</td>\n",
       "      <td>11</td>\n",
       "      <td>5</td>\n",
       "      <td>0</td>\n",
       "    </tr>\n",
       "    <tr>\n",
       "      <th>27830438</th>\n",
       "      <td>64.1</td>\n",
       "      <td>0.0620</td>\n",
       "      <td>142.0</td>\n",
       "      <td>317295</td>\n",
       "      <td>0</td>\n",
       "      <td>13</td>\n",
       "      <td>11</td>\n",
       "      <td>10</td>\n",
       "      <td>0</td>\n",
       "    </tr>\n",
       "    <tr>\n",
       "      <th>...</th>\n",
       "      <td>...</td>\n",
       "      <td>...</td>\n",
       "      <td>...</td>\n",
       "      <td>...</td>\n",
       "      <td>...</td>\n",
       "      <td>...</td>\n",
       "      <td>...</td>\n",
       "      <td>...</td>\n",
       "      <td>...</td>\n",
       "    </tr>\n",
       "    <tr>\n",
       "      <th>2693367</th>\n",
       "      <td>63.6</td>\n",
       "      <td>0.0422</td>\n",
       "      <td>136.0</td>\n",
       "      <td>318566</td>\n",
       "      <td>0</td>\n",
       "      <td>7</td>\n",
       "      <td>23</td>\n",
       "      <td>15</td>\n",
       "      <td>2</td>\n",
       "    </tr>\n",
       "    <tr>\n",
       "      <th>2693368</th>\n",
       "      <td>62.8</td>\n",
       "      <td>0.0451</td>\n",
       "      <td>125.0</td>\n",
       "      <td>318566</td>\n",
       "      <td>0</td>\n",
       "      <td>7</td>\n",
       "      <td>23</td>\n",
       "      <td>20</td>\n",
       "      <td>2</td>\n",
       "    </tr>\n",
       "    <tr>\n",
       "      <th>2693369</th>\n",
       "      <td>62.2</td>\n",
       "      <td>0.0483</td>\n",
       "      <td>145.0</td>\n",
       "      <td>318566</td>\n",
       "      <td>0</td>\n",
       "      <td>7</td>\n",
       "      <td>23</td>\n",
       "      <td>25</td>\n",
       "      <td>2</td>\n",
       "    </tr>\n",
       "    <tr>\n",
       "      <th>2693370</th>\n",
       "      <td>60.3</td>\n",
       "      <td>0.0466</td>\n",
       "      <td>136.0</td>\n",
       "      <td>318566</td>\n",
       "      <td>0</td>\n",
       "      <td>7</td>\n",
       "      <td>23</td>\n",
       "      <td>30</td>\n",
       "      <td>2</td>\n",
       "    </tr>\n",
       "    <tr>\n",
       "      <th>2693371</th>\n",
       "      <td>60.0</td>\n",
       "      <td>0.0464</td>\n",
       "      <td>145.0</td>\n",
       "      <td>318566</td>\n",
       "      <td>0</td>\n",
       "      <td>7</td>\n",
       "      <td>23</td>\n",
       "      <td>35</td>\n",
       "      <td>2</td>\n",
       "    </tr>\n",
       "  </tbody>\n",
       "</table>\n",
       "<p>5800 rows × 9 columns</p>\n",
       "</div>"
      ],
      "text/plain": [
       "          speed     occ   flow  station_id  current  day  hour  minute  \\\n",
       "27830434   63.5  0.0596  136.0      317295        0   13    10      50   \n",
       "27830435   63.6  0.0573  125.0      317295        0   13    10      55   \n",
       "27830436   63.4  0.0606  134.0      317295        0   13    11       0   \n",
       "27830437   63.8  0.0606  138.0      317295        0   13    11       5   \n",
       "27830438   64.1  0.0620  142.0      317295        0   13    11      10   \n",
       "...         ...     ...    ...         ...      ...  ...   ...     ...   \n",
       "2693367    63.6  0.0422  136.0      318566        0    7    23      15   \n",
       "2693368    62.8  0.0451  125.0      318566        0    7    23      20   \n",
       "2693369    62.2  0.0483  145.0      318566        0    7    23      25   \n",
       "2693370    60.3  0.0466  136.0      318566        0    7    23      30   \n",
       "2693371    60.0  0.0464  145.0      318566        0    7    23      35   \n",
       "\n",
       "          dayofweek  \n",
       "27830434          0  \n",
       "27830435          0  \n",
       "27830436          0  \n",
       "27830437          0  \n",
       "27830438          0  \n",
       "...             ...  \n",
       "2693367           2  \n",
       "2693368           2  \n",
       "2693369           2  \n",
       "2693370           2  \n",
       "2693371           2  \n",
       "\n",
       "[5800 rows x 9 columns]"
      ]
     },
     "execution_count": 2,
     "metadata": {},
     "output_type": "execute_result"
    }
   ],
   "source": [
    "train=pd.DataFrame()\n",
    "for x in acident_index_train:\n",
    "    result = trafic_data[(trafic_data['station_id'] == incident.at[x,'up_id'])&(trafic_data['timestamp'] <= incident.at[x,'timestamp'] + timedelta(hours=6))&(trafic_data['timestamp'] >= incident.at[x,'timestamp'] + timedelta(hours=-6))]\n",
    "    result['current']=0\n",
    "    result.loc[(result['timestamp'] >= incident.at[x,'timestamp'])&(result['timestamp'] <= incident.at[x,'timestamp']+ timedelta(minutes=incident.at[x,'duration'])), 'current'] = 1\n",
    "    train = pd.concat([train, result], axis=0)\n",
    "train[\"timestamp\"] = pd.to_datetime(train[\"timestamp\"])\n",
    "train['day'] = train['timestamp'].dt.day\n",
    "train['hour'] = train['timestamp'].dt.hour\n",
    "train['minute'] = train['timestamp'].dt.minute\n",
    "train['dayofweek'] = train['timestamp'].dt.dayofweek\n",
    "train=train.drop(['timestamp'], axis=1)\n",
    "test=pd.DataFrame()\n",
    "for x in acident_index_test:\n",
    "    result = trafic_data[(trafic_data['station_id'] == incident.at[x,'up_id'])&(trafic_data['timestamp'] <= incident.at[x,'timestamp'] + timedelta(hours=6))&(trafic_data['timestamp'] >= incident.at[x,'timestamp'] + timedelta(hours=-6))]\n",
    "    result['current']=0\n",
    "    result.loc[(result['timestamp'] >= incident.at[x,'timestamp'])&(result['timestamp'] <= incident.at[x,'timestamp']+ timedelta(minutes=incident.at[x,'duration'])), 'current'] = 1\n",
    "    test = pd.concat([test, result], axis=0)\n",
    "test[\"timestamp\"] = pd.to_datetime(test[\"timestamp\"])\n",
    "test['day'] = test['timestamp'].dt.day\n",
    "test['hour'] = test['timestamp'].dt.hour\n",
    "test['minute'] = test['timestamp'].dt.minute\n",
    "test['dayofweek'] = test['timestamp'].dt.dayofweek\n",
    "test=test.drop(['timestamp'], axis=1)\n",
    "test"
   ]
  },
  {
   "cell_type": "code",
   "execution_count": 3,
   "id": "9f02b4f2-083c-405d-ab66-bc0c1dbfe71e",
   "metadata": {
    "tags": []
   },
   "outputs": [
    {
     "name": "stdout",
     "output_type": "stream",
     "text": [
      "0.9505172413793104\n",
      "0.8230320634549861\n",
      "0.8626546975736039\n",
      "              precision    recall  f1-score   support\n",
      "\n",
      "           0       0.98      0.97      0.97      5337\n",
      "           1       0.67      0.76      0.71       463\n",
      "\n",
      "    accuracy                           0.95      5800\n",
      "   macro avg       0.82      0.86      0.84      5800\n",
      "weighted avg       0.95      0.95      0.95      5800\n",
      "\n"
     ]
    }
   ],
   "source": [
    "\n",
    "X_train=train[['speed','occ','flow','station_id','day','hour','minute','dayofweek']]\n",
    "X_test=test[['speed','occ','flow','station_id','day','hour','minute','dayofweek']]\n",
    "y_train=train[['current']]\n",
    "y_test = test[['current']] \n",
    "df = pd.concat([test, train], axis=0)\n",
    "transform = list(df.dtypes[df.dtypes != 'object'].index.values) \n",
    "transform.remove('current')\n",
    "numerical = Pipeline(steps=[\n",
    "  \n",
    "    ('scaler', RobustScaler()),\n",
    "    ('poly', PolynomialFeatures(2))])\n",
    "\n",
    "column_preprocessor = ColumnTransformer(\n",
    "    transformers=[\n",
    "       ('num', numerical, transform)])\n",
    "clf = Pipeline(steps=[('preprocessor', column_preprocessor),\n",
    "                      ('classifier', svm.SVC())])\n",
    "\n",
    "clf.fit(X_train, y_train.values.ravel()) \n",
    "y_pred = clf.predict(X_test)\n",
    "print(f1_score(y_test, y_pred, average='micro'))\n",
    "print(precision_score(y_test, y_pred, average=\"macro\"))\n",
    "print(recall_score(y_test, y_pred, average=\"macro\"))\n",
    "print(classification_report(y_test,y_pred))"
   ]
  },
  {
   "cell_type": "code",
   "execution_count": 20,
   "id": "66b6bb6f-7860-47c9-b4a8-3443f6d59e5f",
   "metadata": {
    "tags": []
   },
   "outputs": [
    {
     "name": "stdout",
     "output_type": "stream",
     "text": [
      "Fitting 3 folds for each of 72 candidates, totalling 216 fits\n"
     ]
    }
   ],
   "source": [
    "import time\n",
    "st = time.time()\n",
    "param_dict = { \n",
    "    'classifier__C': [ 1,1.2,1.4],\n",
    "    'classifier__gamma':[1, 0.1, 0.01,0.005, 0.001, 0.0001], \n",
    "    'classifier__degree':[0, 1, 2, 3],\n",
    "    'classifier__kernel': ['rbf']\n",
    "}\n",
    "\n",
    "grid = GridSearchCV(clf, param_dict, cv=3, verbose=1, n_jobs=-1)\n",
    "best_model = grid.fit(X_train, y_train.values.ravel())\n",
    "et = time.time()\n",
    "training_time = et - st\n"
   ]
  },
  {
   "cell_type": "code",
   "execution_count": 21,
   "id": "7742c996-c0a9-4829-9063-056532c70402",
   "metadata": {
    "tags": []
   },
   "outputs": [
    {
     "name": "stdout",
     "output_type": "stream",
     "text": [
      "training time: 20.531564474105835 seconds\n"
     ]
    }
   ],
   "source": [
    "print('training time:', training_time, 'seconds')"
   ]
  },
  {
   "cell_type": "code",
   "execution_count": 22,
   "id": "a020db61-d002-4f8c-9b33-c87324b0658f",
   "metadata": {
    "tags": []
   },
   "outputs": [
    {
     "name": "stdout",
     "output_type": "stream",
     "text": [
      "0.9508620689655173\n",
      "0.8245442297166434\n",
      "0.8618558407401606\n",
      "              precision    recall  f1-score   support\n",
      "\n",
      "           0       0.98      0.97      0.97      5337\n",
      "           1       0.67      0.76      0.71       463\n",
      "\n",
      "    accuracy                           0.95      5800\n",
      "   macro avg       0.82      0.86      0.84      5800\n",
      "weighted avg       0.95      0.95      0.95      5800\n",
      "\n"
     ]
    }
   ],
   "source": [
    "st = time.time()\n",
    "neigh = best_model.best_estimator_\n",
    "neigh.fit(X_train, y_train) \n",
    "y_pred = neigh.predict(X_test)\n",
    "et = time.time()\n",
    "prediction_time = et - st\n",
    "print(f1_score(y_test, y_pred, average='micro'))\n",
    "print(precision_score(y_test, y_pred, average=\"macro\"))\n",
    "print(recall_score(y_test, y_pred, average=\"macro\"))\n",
    "print(classification_report(y_test,y_pred))"
   ]
  },
  {
   "cell_type": "code",
   "execution_count": 23,
   "id": "5cc80b85-ce49-4c50-bf4d-b0a717c0c92c",
   "metadata": {
    "tags": []
   },
   "outputs": [
    {
     "name": "stdout",
     "output_type": "stream",
     "text": [
      "prediction time: 0.43434572219848633 seconds\n"
     ]
    }
   ],
   "source": [
    "print('prediction time:', prediction_time, 'seconds')"
   ]
  },
  {
   "cell_type": "code",
   "execution_count": 14,
   "id": "377d2044-3bea-42f6-88e7-bb1255598d10",
   "metadata": {
    "tags": []
   },
   "outputs": [
    {
     "data": {
      "text/html": [
       "<style>#sk-container-id-2 {color: black;background-color: white;}#sk-container-id-2 pre{padding: 0;}#sk-container-id-2 div.sk-toggleable {background-color: white;}#sk-container-id-2 label.sk-toggleable__label {cursor: pointer;display: block;width: 100%;margin-bottom: 0;padding: 0.3em;box-sizing: border-box;text-align: center;}#sk-container-id-2 label.sk-toggleable__label-arrow:before {content: \"▸\";float: left;margin-right: 0.25em;color: #696969;}#sk-container-id-2 label.sk-toggleable__label-arrow:hover:before {color: black;}#sk-container-id-2 div.sk-estimator:hover label.sk-toggleable__label-arrow:before {color: black;}#sk-container-id-2 div.sk-toggleable__content {max-height: 0;max-width: 0;overflow: hidden;text-align: left;background-color: #f0f8ff;}#sk-container-id-2 div.sk-toggleable__content pre {margin: 0.2em;color: black;border-radius: 0.25em;background-color: #f0f8ff;}#sk-container-id-2 input.sk-toggleable__control:checked~div.sk-toggleable__content {max-height: 200px;max-width: 100%;overflow: auto;}#sk-container-id-2 input.sk-toggleable__control:checked~label.sk-toggleable__label-arrow:before {content: \"▾\";}#sk-container-id-2 div.sk-estimator input.sk-toggleable__control:checked~label.sk-toggleable__label {background-color: #d4ebff;}#sk-container-id-2 div.sk-label input.sk-toggleable__control:checked~label.sk-toggleable__label {background-color: #d4ebff;}#sk-container-id-2 input.sk-hidden--visually {border: 0;clip: rect(1px 1px 1px 1px);clip: rect(1px, 1px, 1px, 1px);height: 1px;margin: -1px;overflow: hidden;padding: 0;position: absolute;width: 1px;}#sk-container-id-2 div.sk-estimator {font-family: monospace;background-color: #f0f8ff;border: 1px dotted black;border-radius: 0.25em;box-sizing: border-box;margin-bottom: 0.5em;}#sk-container-id-2 div.sk-estimator:hover {background-color: #d4ebff;}#sk-container-id-2 div.sk-parallel-item::after {content: \"\";width: 100%;border-bottom: 1px solid gray;flex-grow: 1;}#sk-container-id-2 div.sk-label:hover label.sk-toggleable__label {background-color: #d4ebff;}#sk-container-id-2 div.sk-serial::before {content: \"\";position: absolute;border-left: 1px solid gray;box-sizing: border-box;top: 0;bottom: 0;left: 50%;z-index: 0;}#sk-container-id-2 div.sk-serial {display: flex;flex-direction: column;align-items: center;background-color: white;padding-right: 0.2em;padding-left: 0.2em;position: relative;}#sk-container-id-2 div.sk-item {position: relative;z-index: 1;}#sk-container-id-2 div.sk-parallel {display: flex;align-items: stretch;justify-content: center;background-color: white;position: relative;}#sk-container-id-2 div.sk-item::before, #sk-container-id-2 div.sk-parallel-item::before {content: \"\";position: absolute;border-left: 1px solid gray;box-sizing: border-box;top: 0;bottom: 0;left: 50%;z-index: -1;}#sk-container-id-2 div.sk-parallel-item {display: flex;flex-direction: column;z-index: 1;position: relative;background-color: white;}#sk-container-id-2 div.sk-parallel-item:first-child::after {align-self: flex-end;width: 50%;}#sk-container-id-2 div.sk-parallel-item:last-child::after {align-self: flex-start;width: 50%;}#sk-container-id-2 div.sk-parallel-item:only-child::after {width: 0;}#sk-container-id-2 div.sk-dashed-wrapped {border: 1px dashed gray;margin: 0 0.4em 0.5em 0.4em;box-sizing: border-box;padding-bottom: 0.4em;background-color: white;}#sk-container-id-2 div.sk-label label {font-family: monospace;font-weight: bold;display: inline-block;line-height: 1.2em;}#sk-container-id-2 div.sk-label-container {text-align: center;}#sk-container-id-2 div.sk-container {/* jupyter's `normalize.less` sets `[hidden] { display: none; }` but bootstrap.min.css set `[hidden] { display: none !important; }` so we also need the `!important` here to be able to override the default hidden behavior on the sphinx rendered scikit-learn.org. See: https://github.com/scikit-learn/scikit-learn/issues/21755 */display: inline-block !important;position: relative;}#sk-container-id-2 div.sk-text-repr-fallback {display: none;}</style><div id=\"sk-container-id-2\" class=\"sk-top-container\"><div class=\"sk-text-repr-fallback\"><pre>Pipeline(steps=[(&#x27;preprocessor&#x27;,\n",
       "                 ColumnTransformer(transformers=[(&#x27;num&#x27;,\n",
       "                                                  Pipeline(steps=[(&#x27;scaler&#x27;,\n",
       "                                                                   RobustScaler()),\n",
       "                                                                  (&#x27;poly&#x27;,\n",
       "                                                                   PolynomialFeatures())]),\n",
       "                                                  [&#x27;speed&#x27;, &#x27;occ&#x27;, &#x27;flow&#x27;,\n",
       "                                                   &#x27;station_id&#x27;, &#x27;day&#x27;, &#x27;hour&#x27;,\n",
       "                                                   &#x27;minute&#x27;, &#x27;dayofweek&#x27;])])),\n",
       "                (&#x27;classifier&#x27;, SVC(C=1.2, degree=0, gamma=0.005))])</pre><b>In a Jupyter environment, please rerun this cell to show the HTML representation or trust the notebook. <br />On GitHub, the HTML representation is unable to render, please try loading this page with nbviewer.org.</b></div><div class=\"sk-container\" hidden><div class=\"sk-item sk-dashed-wrapped\"><div class=\"sk-label-container\"><div class=\"sk-label sk-toggleable\"><input class=\"sk-toggleable__control sk-hidden--visually\" id=\"sk-estimator-id-7\" type=\"checkbox\" ><label for=\"sk-estimator-id-7\" class=\"sk-toggleable__label sk-toggleable__label-arrow\">Pipeline</label><div class=\"sk-toggleable__content\"><pre>Pipeline(steps=[(&#x27;preprocessor&#x27;,\n",
       "                 ColumnTransformer(transformers=[(&#x27;num&#x27;,\n",
       "                                                  Pipeline(steps=[(&#x27;scaler&#x27;,\n",
       "                                                                   RobustScaler()),\n",
       "                                                                  (&#x27;poly&#x27;,\n",
       "                                                                   PolynomialFeatures())]),\n",
       "                                                  [&#x27;speed&#x27;, &#x27;occ&#x27;, &#x27;flow&#x27;,\n",
       "                                                   &#x27;station_id&#x27;, &#x27;day&#x27;, &#x27;hour&#x27;,\n",
       "                                                   &#x27;minute&#x27;, &#x27;dayofweek&#x27;])])),\n",
       "                (&#x27;classifier&#x27;, SVC(C=1.2, degree=0, gamma=0.005))])</pre></div></div></div><div class=\"sk-serial\"><div class=\"sk-item sk-dashed-wrapped\"><div class=\"sk-label-container\"><div class=\"sk-label sk-toggleable\"><input class=\"sk-toggleable__control sk-hidden--visually\" id=\"sk-estimator-id-8\" type=\"checkbox\" ><label for=\"sk-estimator-id-8\" class=\"sk-toggleable__label sk-toggleable__label-arrow\">preprocessor: ColumnTransformer</label><div class=\"sk-toggleable__content\"><pre>ColumnTransformer(transformers=[(&#x27;num&#x27;,\n",
       "                                 Pipeline(steps=[(&#x27;scaler&#x27;, RobustScaler()),\n",
       "                                                 (&#x27;poly&#x27;,\n",
       "                                                  PolynomialFeatures())]),\n",
       "                                 [&#x27;speed&#x27;, &#x27;occ&#x27;, &#x27;flow&#x27;, &#x27;station_id&#x27;, &#x27;day&#x27;,\n",
       "                                  &#x27;hour&#x27;, &#x27;minute&#x27;, &#x27;dayofweek&#x27;])])</pre></div></div></div><div class=\"sk-parallel\"><div class=\"sk-parallel-item\"><div class=\"sk-item\"><div class=\"sk-label-container\"><div class=\"sk-label sk-toggleable\"><input class=\"sk-toggleable__control sk-hidden--visually\" id=\"sk-estimator-id-9\" type=\"checkbox\" ><label for=\"sk-estimator-id-9\" class=\"sk-toggleable__label sk-toggleable__label-arrow\">num</label><div class=\"sk-toggleable__content\"><pre>[&#x27;speed&#x27;, &#x27;occ&#x27;, &#x27;flow&#x27;, &#x27;station_id&#x27;, &#x27;day&#x27;, &#x27;hour&#x27;, &#x27;minute&#x27;, &#x27;dayofweek&#x27;]</pre></div></div></div><div class=\"sk-serial\"><div class=\"sk-item\"><div class=\"sk-serial\"><div class=\"sk-item\"><div class=\"sk-estimator sk-toggleable\"><input class=\"sk-toggleable__control sk-hidden--visually\" id=\"sk-estimator-id-10\" type=\"checkbox\" ><label for=\"sk-estimator-id-10\" class=\"sk-toggleable__label sk-toggleable__label-arrow\">RobustScaler</label><div class=\"sk-toggleable__content\"><pre>RobustScaler()</pre></div></div></div><div class=\"sk-item\"><div class=\"sk-estimator sk-toggleable\"><input class=\"sk-toggleable__control sk-hidden--visually\" id=\"sk-estimator-id-11\" type=\"checkbox\" ><label for=\"sk-estimator-id-11\" class=\"sk-toggleable__label sk-toggleable__label-arrow\">PolynomialFeatures</label><div class=\"sk-toggleable__content\"><pre>PolynomialFeatures()</pre></div></div></div></div></div></div></div></div></div></div><div class=\"sk-item\"><div class=\"sk-estimator sk-toggleable\"><input class=\"sk-toggleable__control sk-hidden--visually\" id=\"sk-estimator-id-12\" type=\"checkbox\" ><label for=\"sk-estimator-id-12\" class=\"sk-toggleable__label sk-toggleable__label-arrow\">SVC</label><div class=\"sk-toggleable__content\"><pre>SVC(C=1.2, degree=0, gamma=0.005)</pre></div></div></div></div></div></div></div>"
      ],
      "text/plain": [
       "Pipeline(steps=[('preprocessor',\n",
       "                 ColumnTransformer(transformers=[('num',\n",
       "                                                  Pipeline(steps=[('scaler',\n",
       "                                                                   RobustScaler()),\n",
       "                                                                  ('poly',\n",
       "                                                                   PolynomialFeatures())]),\n",
       "                                                  ['speed', 'occ', 'flow',\n",
       "                                                   'station_id', 'day', 'hour',\n",
       "                                                   'minute', 'dayofweek'])])),\n",
       "                ('classifier', SVC(C=1.2, degree=0, gamma=0.005))])"
      ]
     },
     "execution_count": 14,
     "metadata": {},
     "output_type": "execute_result"
    }
   ],
   "source": [
    "best_model.best_estimator_"
   ]
  },
  {
   "cell_type": "code",
   "execution_count": 15,
   "id": "0f967c37-b7d8-40fe-b7be-76da6b6dc74c",
   "metadata": {
    "tags": []
   },
   "outputs": [
    {
     "data": {
      "text/html": [
       "<div>\n",
       "<style scoped>\n",
       "    .dataframe tbody tr th:only-of-type {\n",
       "        vertical-align: middle;\n",
       "    }\n",
       "\n",
       "    .dataframe tbody tr th {\n",
       "        vertical-align: top;\n",
       "    }\n",
       "\n",
       "    .dataframe thead th {\n",
       "        text-align: right;\n",
       "    }\n",
       "</style>\n",
       "<table border=\"1\" class=\"dataframe\">\n",
       "  <thead>\n",
       "    <tr style=\"text-align: right;\">\n",
       "      <th></th>\n",
       "      <th>speed</th>\n",
       "      <th>occ</th>\n",
       "      <th>flow</th>\n",
       "      <th>station_id</th>\n",
       "      <th>timestamp</th>\n",
       "      <th>day</th>\n",
       "      <th>hour</th>\n",
       "      <th>minute</th>\n",
       "      <th>dayofweek</th>\n",
       "      <th>svm_result</th>\n",
       "      <th>current</th>\n",
       "    </tr>\n",
       "  </thead>\n",
       "  <tbody>\n",
       "    <tr>\n",
       "      <th>15043702</th>\n",
       "      <td>68.7</td>\n",
       "      <td>0.0171</td>\n",
       "      <td>62.0</td>\n",
       "      <td>318927</td>\n",
       "      <td>2016-07-01 01:50:00</td>\n",
       "      <td>1</td>\n",
       "      <td>1</td>\n",
       "      <td>50</td>\n",
       "      <td>4</td>\n",
       "      <td>0</td>\n",
       "      <td>0</td>\n",
       "    </tr>\n",
       "    <tr>\n",
       "      <th>15043703</th>\n",
       "      <td>69.1</td>\n",
       "      <td>0.0132</td>\n",
       "      <td>45.0</td>\n",
       "      <td>318927</td>\n",
       "      <td>2016-07-01 01:55:00</td>\n",
       "      <td>1</td>\n",
       "      <td>1</td>\n",
       "      <td>55</td>\n",
       "      <td>4</td>\n",
       "      <td>0</td>\n",
       "      <td>0</td>\n",
       "    </tr>\n",
       "    <tr>\n",
       "      <th>15043704</th>\n",
       "      <td>69.0</td>\n",
       "      <td>0.0130</td>\n",
       "      <td>46.0</td>\n",
       "      <td>318927</td>\n",
       "      <td>2016-07-01 02:00:00</td>\n",
       "      <td>1</td>\n",
       "      <td>2</td>\n",
       "      <td>0</td>\n",
       "      <td>4</td>\n",
       "      <td>0</td>\n",
       "      <td>0</td>\n",
       "    </tr>\n",
       "    <tr>\n",
       "      <th>15043705</th>\n",
       "      <td>68.5</td>\n",
       "      <td>0.0153</td>\n",
       "      <td>51.0</td>\n",
       "      <td>318927</td>\n",
       "      <td>2016-07-01 02:05:00</td>\n",
       "      <td>1</td>\n",
       "      <td>2</td>\n",
       "      <td>5</td>\n",
       "      <td>4</td>\n",
       "      <td>0</td>\n",
       "      <td>0</td>\n",
       "    </tr>\n",
       "    <tr>\n",
       "      <th>15043706</th>\n",
       "      <td>67.7</td>\n",
       "      <td>0.0148</td>\n",
       "      <td>50.0</td>\n",
       "      <td>318927</td>\n",
       "      <td>2016-07-01 02:10:00</td>\n",
       "      <td>1</td>\n",
       "      <td>2</td>\n",
       "      <td>10</td>\n",
       "      <td>4</td>\n",
       "      <td>0</td>\n",
       "      <td>0</td>\n",
       "    </tr>\n",
       "    <tr>\n",
       "      <th>...</th>\n",
       "      <td>...</td>\n",
       "      <td>...</td>\n",
       "      <td>...</td>\n",
       "      <td>...</td>\n",
       "      <td>...</td>\n",
       "      <td>...</td>\n",
       "      <td>...</td>\n",
       "      <td>...</td>\n",
       "      <td>...</td>\n",
       "      <td>...</td>\n",
       "      <td>...</td>\n",
       "    </tr>\n",
       "    <tr>\n",
       "      <th>15043842</th>\n",
       "      <td>62.1</td>\n",
       "      <td>0.1025</td>\n",
       "      <td>336.0</td>\n",
       "      <td>318927</td>\n",
       "      <td>2016-07-01 13:30:00</td>\n",
       "      <td>1</td>\n",
       "      <td>13</td>\n",
       "      <td>30</td>\n",
       "      <td>4</td>\n",
       "      <td>0</td>\n",
       "      <td>0</td>\n",
       "    </tr>\n",
       "    <tr>\n",
       "      <th>15043843</th>\n",
       "      <td>61.3</td>\n",
       "      <td>0.1022</td>\n",
       "      <td>333.0</td>\n",
       "      <td>318927</td>\n",
       "      <td>2016-07-01 13:35:00</td>\n",
       "      <td>1</td>\n",
       "      <td>13</td>\n",
       "      <td>35</td>\n",
       "      <td>4</td>\n",
       "      <td>0</td>\n",
       "      <td>0</td>\n",
       "    </tr>\n",
       "    <tr>\n",
       "      <th>15043844</th>\n",
       "      <td>61.0</td>\n",
       "      <td>0.1103</td>\n",
       "      <td>354.0</td>\n",
       "      <td>318927</td>\n",
       "      <td>2016-07-01 13:40:00</td>\n",
       "      <td>1</td>\n",
       "      <td>13</td>\n",
       "      <td>40</td>\n",
       "      <td>4</td>\n",
       "      <td>0</td>\n",
       "      <td>0</td>\n",
       "    </tr>\n",
       "    <tr>\n",
       "      <th>15043845</th>\n",
       "      <td>60.5</td>\n",
       "      <td>0.1136</td>\n",
       "      <td>363.0</td>\n",
       "      <td>318927</td>\n",
       "      <td>2016-07-01 13:45:00</td>\n",
       "      <td>1</td>\n",
       "      <td>13</td>\n",
       "      <td>45</td>\n",
       "      <td>4</td>\n",
       "      <td>0</td>\n",
       "      <td>0</td>\n",
       "    </tr>\n",
       "    <tr>\n",
       "      <th>15043846</th>\n",
       "      <td>61.4</td>\n",
       "      <td>0.1015</td>\n",
       "      <td>334.0</td>\n",
       "      <td>318927</td>\n",
       "      <td>2016-07-01 13:50:00</td>\n",
       "      <td>1</td>\n",
       "      <td>13</td>\n",
       "      <td>50</td>\n",
       "      <td>4</td>\n",
       "      <td>0</td>\n",
       "      <td>0</td>\n",
       "    </tr>\n",
       "  </tbody>\n",
       "</table>\n",
       "<p>145 rows × 11 columns</p>\n",
       "</div>"
      ],
      "text/plain": [
       "          speed     occ   flow  station_id           timestamp  day  hour  \\\n",
       "15043702   68.7  0.0171   62.0      318927 2016-07-01 01:50:00    1     1   \n",
       "15043703   69.1  0.0132   45.0      318927 2016-07-01 01:55:00    1     1   \n",
       "15043704   69.0  0.0130   46.0      318927 2016-07-01 02:00:00    1     2   \n",
       "15043705   68.5  0.0153   51.0      318927 2016-07-01 02:05:00    1     2   \n",
       "15043706   67.7  0.0148   50.0      318927 2016-07-01 02:10:00    1     2   \n",
       "...         ...     ...    ...         ...                 ...  ...   ...   \n",
       "15043842   62.1  0.1025  336.0      318927 2016-07-01 13:30:00    1    13   \n",
       "15043843   61.3  0.1022  333.0      318927 2016-07-01 13:35:00    1    13   \n",
       "15043844   61.0  0.1103  354.0      318927 2016-07-01 13:40:00    1    13   \n",
       "15043845   60.5  0.1136  363.0      318927 2016-07-01 13:45:00    1    13   \n",
       "15043846   61.4  0.1015  334.0      318927 2016-07-01 13:50:00    1    13   \n",
       "\n",
       "          minute  dayofweek  svm_result  current  \n",
       "15043702      50          4           0        0  \n",
       "15043703      55          4           0        0  \n",
       "15043704       0          4           0        0  \n",
       "15043705       5          4           0        0  \n",
       "15043706      10          4           0        0  \n",
       "...          ...        ...         ...      ...  \n",
       "15043842      30          4           0        0  \n",
       "15043843      35          4           0        0  \n",
       "15043844      40          4           0        0  \n",
       "15043845      45          4           0        0  \n",
       "15043846      50          4           0        0  \n",
       "\n",
       "[145 rows x 11 columns]"
      ]
     },
     "execution_count": 15,
     "metadata": {},
     "output_type": "execute_result"
    }
   ],
   "source": [
    "def svm_result(x):\n",
    "    result = trafic_data[(trafic_data['station_id'] == incident.at[x,'up_id'])&(trafic_data['timestamp'] <= incident.at[x,'timestamp'] + timedelta(hours=6))&(trafic_data['timestamp'] >= incident.at[x,'timestamp'] + timedelta(hours=-6))]\n",
    "    result[\"timestamp\"] = pd.to_datetime(result[\"timestamp\"])\n",
    "    result['day'] = result['timestamp'].dt.day\n",
    "    result['hour'] = result['timestamp'].dt.hour\n",
    "    result['minute'] = result['timestamp'].dt.minute\n",
    "    result['dayofweek'] = result['timestamp'].dt.dayofweek\n",
    "    res = neigh.predict(result[['speed','occ','flow','station_id','day','hour','minute','dayofweek']])\n",
    "    result[\"svm_result\"] = res\n",
    "    result['current']=0\n",
    "    result.loc[(result['timestamp'] >= incident.at[x,'timestamp'])&(result['timestamp'] <= incident.at[x,'timestamp']+ timedelta(minutes=incident.at[x,'duration'])), 'current'] = 1\n",
    "    return(result)\n",
    "result=svm_result(188)\n",
    "result"
   ]
  },
  {
   "cell_type": "code",
   "execution_count": 16,
   "id": "ae1bc0b0-f862-475a-a683-da9f6967a0f4",
   "metadata": {
    "tags": []
   },
   "outputs": [
    {
     "data": {
      "application/vnd.plotly.v1+json": {
       "config": {
        "plotlyServerURL": "https://plot.ly"
       },
       "data": [
        {
         "line": {
          "color": "blue"
         },
         "type": "scattergl",
         "x": [
          "2016-07-01T01:50:00",
          "2016-07-01T01:55:00",
          "2016-07-01T02:00:00",
          "2016-07-01T02:05:00",
          "2016-07-01T02:10:00",
          "2016-07-01T02:15:00",
          "2016-07-01T02:20:00",
          "2016-07-01T02:25:00",
          "2016-07-01T02:30:00",
          "2016-07-01T02:35:00",
          "2016-07-01T02:40:00",
          "2016-07-01T02:45:00",
          "2016-07-01T02:50:00",
          "2016-07-01T02:55:00",
          "2016-07-01T03:00:00",
          "2016-07-01T03:05:00",
          "2016-07-01T03:10:00",
          "2016-07-01T03:15:00",
          "2016-07-01T03:20:00",
          "2016-07-01T03:25:00",
          "2016-07-01T03:30:00",
          "2016-07-01T03:35:00",
          "2016-07-01T03:40:00",
          "2016-07-01T03:45:00",
          "2016-07-01T03:50:00",
          "2016-07-01T03:55:00",
          "2016-07-01T04:00:00",
          "2016-07-01T04:05:00",
          "2016-07-01T04:10:00",
          "2016-07-01T04:15:00",
          "2016-07-01T04:20:00",
          "2016-07-01T04:25:00",
          "2016-07-01T04:30:00",
          "2016-07-01T04:35:00",
          "2016-07-01T04:40:00",
          "2016-07-01T04:45:00",
          "2016-07-01T04:50:00",
          "2016-07-01T04:55:00",
          "2016-07-01T05:00:00",
          "2016-07-01T05:05:00",
          "2016-07-01T05:10:00",
          "2016-07-01T05:15:00",
          "2016-07-01T05:20:00",
          "2016-07-01T05:25:00",
          "2016-07-01T05:30:00",
          "2016-07-01T05:35:00",
          "2016-07-01T05:40:00",
          "2016-07-01T05:45:00",
          "2016-07-01T05:50:00",
          "2016-07-01T05:55:00",
          "2016-07-01T06:00:00",
          "2016-07-01T06:05:00",
          "2016-07-01T06:10:00",
          "2016-07-01T06:15:00",
          "2016-07-01T06:20:00",
          "2016-07-01T06:25:00",
          "2016-07-01T06:30:00",
          "2016-07-01T06:35:00",
          "2016-07-01T06:40:00",
          "2016-07-01T06:45:00",
          "2016-07-01T06:50:00",
          "2016-07-01T06:55:00",
          "2016-07-01T07:00:00",
          "2016-07-01T07:05:00",
          "2016-07-01T07:10:00",
          "2016-07-01T07:15:00",
          "2016-07-01T07:20:00",
          "2016-07-01T07:25:00",
          "2016-07-01T07:30:00",
          "2016-07-01T07:35:00",
          "2016-07-01T07:40:00",
          "2016-07-01T07:45:00",
          "2016-07-01T07:50:00",
          "2016-07-01T07:55:00",
          "2016-07-01T08:00:00",
          "2016-07-01T08:05:00",
          "2016-07-01T08:10:00",
          "2016-07-01T08:15:00",
          "2016-07-01T08:20:00",
          "2016-07-01T08:25:00",
          "2016-07-01T08:30:00",
          "2016-07-01T08:35:00",
          "2016-07-01T08:40:00",
          "2016-07-01T08:45:00",
          "2016-07-01T08:50:00",
          "2016-07-01T08:55:00",
          "2016-07-01T09:00:00",
          "2016-07-01T09:05:00",
          "2016-07-01T09:10:00",
          "2016-07-01T09:15:00",
          "2016-07-01T09:20:00",
          "2016-07-01T09:25:00",
          "2016-07-01T09:30:00",
          "2016-07-01T09:35:00",
          "2016-07-01T09:40:00",
          "2016-07-01T09:45:00",
          "2016-07-01T09:50:00",
          "2016-07-01T09:55:00",
          "2016-07-01T10:00:00",
          "2016-07-01T10:05:00",
          "2016-07-01T10:10:00",
          "2016-07-01T10:15:00",
          "2016-07-01T10:20:00",
          "2016-07-01T10:25:00",
          "2016-07-01T10:30:00",
          "2016-07-01T10:35:00",
          "2016-07-01T10:40:00",
          "2016-07-01T10:45:00",
          "2016-07-01T10:50:00",
          "2016-07-01T10:55:00",
          "2016-07-01T11:00:00",
          "2016-07-01T11:05:00",
          "2016-07-01T11:10:00",
          "2016-07-01T11:15:00",
          "2016-07-01T11:20:00",
          "2016-07-01T11:25:00",
          "2016-07-01T11:30:00",
          "2016-07-01T11:35:00",
          "2016-07-01T11:40:00",
          "2016-07-01T11:45:00",
          "2016-07-01T11:50:00",
          "2016-07-01T11:55:00",
          "2016-07-01T12:00:00",
          "2016-07-01T12:05:00",
          "2016-07-01T12:10:00",
          "2016-07-01T12:15:00",
          "2016-07-01T12:20:00",
          "2016-07-01T12:25:00",
          "2016-07-01T12:30:00",
          "2016-07-01T12:35:00",
          "2016-07-01T12:40:00",
          "2016-07-01T12:45:00",
          "2016-07-01T12:50:00",
          "2016-07-01T12:55:00",
          "2016-07-01T13:00:00",
          "2016-07-01T13:05:00",
          "2016-07-01T13:10:00",
          "2016-07-01T13:15:00",
          "2016-07-01T13:20:00",
          "2016-07-01T13:25:00",
          "2016-07-01T13:30:00",
          "2016-07-01T13:35:00",
          "2016-07-01T13:40:00",
          "2016-07-01T13:45:00",
          "2016-07-01T13:50:00"
         ],
         "y": [
          68.7,
          69.1,
          69,
          68.5,
          67.7,
          68.1,
          68.5,
          67,
          66.8,
          68.6,
          68.2,
          66.5,
          66.7,
          68.6,
          67.1,
          68.7,
          67.5,
          68.3,
          69.1,
          68.6,
          68.3,
          70.4,
          69.2,
          67.4,
          67,
          67.9,
          68,
          67.4,
          66.9,
          66.3,
          66.8,
          67.7,
          68.3,
          64.3,
          65.4,
          67,
          65.5,
          67,
          68.1,
          67.9,
          68.1,
          67.6,
          68.3,
          66.2,
          67.6,
          69.3,
          67.5,
          68.5,
          66.8,
          66.8,
          67.5,
          66.8,
          67.1,
          65.1,
          65.1,
          65.2,
          65.3,
          64.3,
          64,
          62.7,
          63.1,
          63.1,
          64.1,
          65,
          64.4,
          63.6,
          62.6,
          63.5,
          62.9,
          63,
          63.8,
          62,
          57.9,
          52.1,
          46.1,
          39.5,
          35.3,
          31.6,
          29.5,
          27.9,
          26.2,
          26.5,
          35,
          40.5,
          39.8,
          44.8,
          53.1,
          56.8,
          59,
          61.5,
          61.6,
          61.3,
          61.9,
          61.8,
          61.7,
          62.7,
          62.1,
          62.7,
          63.5,
          62.8,
          62.1,
          61.5,
          62.8,
          63,
          62.1,
          62.8,
          61.7,
          61.4,
          63.1,
          63.1,
          61.2,
          61.3,
          61.3,
          61,
          59.7,
          60.7,
          60.3,
          61.3,
          61.7,
          61.8,
          61.6,
          60.6,
          60.8,
          61.3,
          60.8,
          60.4,
          61.4,
          62.8,
          61.1,
          60,
          59,
          59.2,
          61.2,
          62.2,
          61.6,
          62.5,
          61.2,
          60.7,
          60.9,
          61.2,
          62.1,
          61.3,
          61,
          60.5,
          61.4
         ]
        },
        {
         "line": {
          "color": "red"
         },
         "type": "scattergl",
         "x": [
          "2016-07-01T01:50:00",
          "2016-07-01T01:55:00",
          "2016-07-01T02:00:00",
          "2016-07-01T02:05:00",
          "2016-07-01T02:10:00",
          "2016-07-01T02:15:00",
          "2016-07-01T02:20:00",
          "2016-07-01T02:25:00",
          "2016-07-01T02:30:00",
          "2016-07-01T02:35:00",
          "2016-07-01T02:40:00",
          "2016-07-01T02:45:00",
          "2016-07-01T02:50:00",
          "2016-07-01T02:55:00",
          "2016-07-01T03:00:00",
          "2016-07-01T03:05:00",
          "2016-07-01T03:10:00",
          "2016-07-01T03:15:00",
          "2016-07-01T03:20:00",
          "2016-07-01T03:25:00",
          "2016-07-01T03:30:00",
          "2016-07-01T03:35:00",
          "2016-07-01T03:40:00",
          "2016-07-01T03:45:00",
          "2016-07-01T03:50:00",
          "2016-07-01T03:55:00",
          "2016-07-01T04:00:00",
          "2016-07-01T04:05:00",
          "2016-07-01T04:10:00",
          "2016-07-01T04:15:00",
          "2016-07-01T04:20:00",
          "2016-07-01T04:25:00",
          "2016-07-01T04:30:00",
          "2016-07-01T04:35:00",
          "2016-07-01T04:40:00",
          "2016-07-01T04:45:00",
          "2016-07-01T04:50:00",
          "2016-07-01T04:55:00",
          "2016-07-01T05:00:00",
          "2016-07-01T05:05:00",
          "2016-07-01T05:10:00",
          "2016-07-01T05:15:00",
          "2016-07-01T05:20:00",
          "2016-07-01T05:25:00",
          "2016-07-01T05:30:00",
          "2016-07-01T05:35:00",
          "2016-07-01T05:40:00",
          "2016-07-01T05:45:00",
          "2016-07-01T05:50:00",
          "2016-07-01T05:55:00",
          "2016-07-01T06:00:00",
          "2016-07-01T06:05:00",
          "2016-07-01T06:10:00",
          "2016-07-01T06:15:00",
          "2016-07-01T06:20:00",
          "2016-07-01T06:25:00",
          "2016-07-01T06:30:00",
          "2016-07-01T06:35:00",
          "2016-07-01T06:40:00",
          "2016-07-01T06:45:00",
          "2016-07-01T06:50:00",
          "2016-07-01T06:55:00",
          "2016-07-01T07:00:00",
          "2016-07-01T07:05:00",
          "2016-07-01T07:10:00",
          "2016-07-01T07:15:00",
          "2016-07-01T07:20:00",
          "2016-07-01T07:25:00",
          "2016-07-01T07:30:00",
          "2016-07-01T07:35:00",
          "2016-07-01T07:40:00",
          "2016-07-01T07:45:00",
          "2016-07-01T07:50:00",
          "2016-07-01T07:55:00",
          "2016-07-01T08:00:00",
          "2016-07-01T08:05:00",
          "2016-07-01T08:10:00",
          "2016-07-01T08:15:00",
          "2016-07-01T08:20:00",
          "2016-07-01T08:25:00",
          "2016-07-01T08:30:00",
          "2016-07-01T08:35:00",
          "2016-07-01T08:40:00",
          "2016-07-01T08:45:00",
          "2016-07-01T08:50:00",
          "2016-07-01T08:55:00",
          "2016-07-01T09:00:00",
          "2016-07-01T09:05:00",
          "2016-07-01T09:10:00",
          "2016-07-01T09:15:00",
          "2016-07-01T09:20:00",
          "2016-07-01T09:25:00",
          "2016-07-01T09:30:00",
          "2016-07-01T09:35:00",
          "2016-07-01T09:40:00",
          "2016-07-01T09:45:00",
          "2016-07-01T09:50:00",
          "2016-07-01T09:55:00",
          "2016-07-01T10:00:00",
          "2016-07-01T10:05:00",
          "2016-07-01T10:10:00",
          "2016-07-01T10:15:00",
          "2016-07-01T10:20:00",
          "2016-07-01T10:25:00",
          "2016-07-01T10:30:00",
          "2016-07-01T10:35:00",
          "2016-07-01T10:40:00",
          "2016-07-01T10:45:00",
          "2016-07-01T10:50:00",
          "2016-07-01T10:55:00",
          "2016-07-01T11:00:00",
          "2016-07-01T11:05:00",
          "2016-07-01T11:10:00",
          "2016-07-01T11:15:00",
          "2016-07-01T11:20:00",
          "2016-07-01T11:25:00",
          "2016-07-01T11:30:00",
          "2016-07-01T11:35:00",
          "2016-07-01T11:40:00",
          "2016-07-01T11:45:00",
          "2016-07-01T11:50:00",
          "2016-07-01T11:55:00",
          "2016-07-01T12:00:00",
          "2016-07-01T12:05:00",
          "2016-07-01T12:10:00",
          "2016-07-01T12:15:00",
          "2016-07-01T12:20:00",
          "2016-07-01T12:25:00",
          "2016-07-01T12:30:00",
          "2016-07-01T12:35:00",
          "2016-07-01T12:40:00",
          "2016-07-01T12:45:00",
          "2016-07-01T12:50:00",
          "2016-07-01T12:55:00",
          "2016-07-01T13:00:00",
          "2016-07-01T13:05:00",
          "2016-07-01T13:10:00",
          "2016-07-01T13:15:00",
          "2016-07-01T13:20:00",
          "2016-07-01T13:25:00",
          "2016-07-01T13:30:00",
          "2016-07-01T13:35:00",
          "2016-07-01T13:40:00",
          "2016-07-01T13:45:00",
          "2016-07-01T13:50:00"
         ],
         "y": [
          null,
          null,
          null,
          null,
          null,
          null,
          null,
          null,
          null,
          null,
          null,
          null,
          null,
          null,
          null,
          null,
          null,
          null,
          null,
          null,
          null,
          null,
          null,
          null,
          null,
          null,
          null,
          null,
          null,
          null,
          null,
          null,
          null,
          null,
          null,
          null,
          null,
          null,
          null,
          null,
          null,
          null,
          null,
          null,
          null,
          null,
          null,
          null,
          null,
          null,
          null,
          null,
          null,
          null,
          null,
          null,
          null,
          null,
          null,
          null,
          null,
          null,
          null,
          null,
          null,
          null,
          null,
          null,
          null,
          null,
          null,
          null,
          null,
          null,
          46.1,
          39.5,
          35.3,
          31.6,
          29.5,
          27.9,
          26.2,
          26.5,
          35,
          40.5,
          39.8,
          44.8,
          null,
          null,
          null,
          null,
          null,
          null,
          null,
          null,
          null,
          null,
          null,
          null,
          null,
          null,
          null,
          null,
          null,
          null,
          null,
          null,
          null,
          null,
          null,
          null,
          null,
          null,
          null,
          null,
          null,
          null,
          null,
          null,
          null,
          null,
          null,
          null,
          null,
          null,
          null,
          null,
          null,
          null,
          null,
          null,
          null,
          null,
          null,
          null,
          null,
          null,
          null,
          null,
          null,
          null,
          null,
          null,
          null,
          null,
          null
         ]
        }
       ],
       "layout": {
        "autosize": true,
        "template": {
         "data": {
          "bar": [
           {
            "error_x": {
             "color": "#2a3f5f"
            },
            "error_y": {
             "color": "#2a3f5f"
            },
            "marker": {
             "line": {
              "color": "#E5ECF6",
              "width": 0.5
             },
             "pattern": {
              "fillmode": "overlay",
              "size": 10,
              "solidity": 0.2
             }
            },
            "type": "bar"
           }
          ],
          "barpolar": [
           {
            "marker": {
             "line": {
              "color": "#E5ECF6",
              "width": 0.5
             },
             "pattern": {
              "fillmode": "overlay",
              "size": 10,
              "solidity": 0.2
             }
            },
            "type": "barpolar"
           }
          ],
          "carpet": [
           {
            "aaxis": {
             "endlinecolor": "#2a3f5f",
             "gridcolor": "white",
             "linecolor": "white",
             "minorgridcolor": "white",
             "startlinecolor": "#2a3f5f"
            },
            "baxis": {
             "endlinecolor": "#2a3f5f",
             "gridcolor": "white",
             "linecolor": "white",
             "minorgridcolor": "white",
             "startlinecolor": "#2a3f5f"
            },
            "type": "carpet"
           }
          ],
          "choropleth": [
           {
            "colorbar": {
             "outlinewidth": 0,
             "ticks": ""
            },
            "type": "choropleth"
           }
          ],
          "contour": [
           {
            "colorbar": {
             "outlinewidth": 0,
             "ticks": ""
            },
            "colorscale": [
             [
              0,
              "#0d0887"
             ],
             [
              0.1111111111111111,
              "#46039f"
             ],
             [
              0.2222222222222222,
              "#7201a8"
             ],
             [
              0.3333333333333333,
              "#9c179e"
             ],
             [
              0.4444444444444444,
              "#bd3786"
             ],
             [
              0.5555555555555556,
              "#d8576b"
             ],
             [
              0.6666666666666666,
              "#ed7953"
             ],
             [
              0.7777777777777778,
              "#fb9f3a"
             ],
             [
              0.8888888888888888,
              "#fdca26"
             ],
             [
              1,
              "#f0f921"
             ]
            ],
            "type": "contour"
           }
          ],
          "contourcarpet": [
           {
            "colorbar": {
             "outlinewidth": 0,
             "ticks": ""
            },
            "type": "contourcarpet"
           }
          ],
          "heatmap": [
           {
            "colorbar": {
             "outlinewidth": 0,
             "ticks": ""
            },
            "colorscale": [
             [
              0,
              "#0d0887"
             ],
             [
              0.1111111111111111,
              "#46039f"
             ],
             [
              0.2222222222222222,
              "#7201a8"
             ],
             [
              0.3333333333333333,
              "#9c179e"
             ],
             [
              0.4444444444444444,
              "#bd3786"
             ],
             [
              0.5555555555555556,
              "#d8576b"
             ],
             [
              0.6666666666666666,
              "#ed7953"
             ],
             [
              0.7777777777777778,
              "#fb9f3a"
             ],
             [
              0.8888888888888888,
              "#fdca26"
             ],
             [
              1,
              "#f0f921"
             ]
            ],
            "type": "heatmap"
           }
          ],
          "heatmapgl": [
           {
            "colorbar": {
             "outlinewidth": 0,
             "ticks": ""
            },
            "colorscale": [
             [
              0,
              "#0d0887"
             ],
             [
              0.1111111111111111,
              "#46039f"
             ],
             [
              0.2222222222222222,
              "#7201a8"
             ],
             [
              0.3333333333333333,
              "#9c179e"
             ],
             [
              0.4444444444444444,
              "#bd3786"
             ],
             [
              0.5555555555555556,
              "#d8576b"
             ],
             [
              0.6666666666666666,
              "#ed7953"
             ],
             [
              0.7777777777777778,
              "#fb9f3a"
             ],
             [
              0.8888888888888888,
              "#fdca26"
             ],
             [
              1,
              "#f0f921"
             ]
            ],
            "type": "heatmapgl"
           }
          ],
          "histogram": [
           {
            "marker": {
             "pattern": {
              "fillmode": "overlay",
              "size": 10,
              "solidity": 0.2
             }
            },
            "type": "histogram"
           }
          ],
          "histogram2d": [
           {
            "colorbar": {
             "outlinewidth": 0,
             "ticks": ""
            },
            "colorscale": [
             [
              0,
              "#0d0887"
             ],
             [
              0.1111111111111111,
              "#46039f"
             ],
             [
              0.2222222222222222,
              "#7201a8"
             ],
             [
              0.3333333333333333,
              "#9c179e"
             ],
             [
              0.4444444444444444,
              "#bd3786"
             ],
             [
              0.5555555555555556,
              "#d8576b"
             ],
             [
              0.6666666666666666,
              "#ed7953"
             ],
             [
              0.7777777777777778,
              "#fb9f3a"
             ],
             [
              0.8888888888888888,
              "#fdca26"
             ],
             [
              1,
              "#f0f921"
             ]
            ],
            "type": "histogram2d"
           }
          ],
          "histogram2dcontour": [
           {
            "colorbar": {
             "outlinewidth": 0,
             "ticks": ""
            },
            "colorscale": [
             [
              0,
              "#0d0887"
             ],
             [
              0.1111111111111111,
              "#46039f"
             ],
             [
              0.2222222222222222,
              "#7201a8"
             ],
             [
              0.3333333333333333,
              "#9c179e"
             ],
             [
              0.4444444444444444,
              "#bd3786"
             ],
             [
              0.5555555555555556,
              "#d8576b"
             ],
             [
              0.6666666666666666,
              "#ed7953"
             ],
             [
              0.7777777777777778,
              "#fb9f3a"
             ],
             [
              0.8888888888888888,
              "#fdca26"
             ],
             [
              1,
              "#f0f921"
             ]
            ],
            "type": "histogram2dcontour"
           }
          ],
          "mesh3d": [
           {
            "colorbar": {
             "outlinewidth": 0,
             "ticks": ""
            },
            "type": "mesh3d"
           }
          ],
          "parcoords": [
           {
            "line": {
             "colorbar": {
              "outlinewidth": 0,
              "ticks": ""
             }
            },
            "type": "parcoords"
           }
          ],
          "pie": [
           {
            "automargin": true,
            "type": "pie"
           }
          ],
          "scatter": [
           {
            "fillpattern": {
             "fillmode": "overlay",
             "size": 10,
             "solidity": 0.2
            },
            "type": "scatter"
           }
          ],
          "scatter3d": [
           {
            "line": {
             "colorbar": {
              "outlinewidth": 0,
              "ticks": ""
             }
            },
            "marker": {
             "colorbar": {
              "outlinewidth": 0,
              "ticks": ""
             }
            },
            "type": "scatter3d"
           }
          ],
          "scattercarpet": [
           {
            "marker": {
             "colorbar": {
              "outlinewidth": 0,
              "ticks": ""
             }
            },
            "type": "scattercarpet"
           }
          ],
          "scattergeo": [
           {
            "marker": {
             "colorbar": {
              "outlinewidth": 0,
              "ticks": ""
             }
            },
            "type": "scattergeo"
           }
          ],
          "scattergl": [
           {
            "marker": {
             "colorbar": {
              "outlinewidth": 0,
              "ticks": ""
             }
            },
            "type": "scattergl"
           }
          ],
          "scattermapbox": [
           {
            "marker": {
             "colorbar": {
              "outlinewidth": 0,
              "ticks": ""
             }
            },
            "type": "scattermapbox"
           }
          ],
          "scatterpolar": [
           {
            "marker": {
             "colorbar": {
              "outlinewidth": 0,
              "ticks": ""
             }
            },
            "type": "scatterpolar"
           }
          ],
          "scatterpolargl": [
           {
            "marker": {
             "colorbar": {
              "outlinewidth": 0,
              "ticks": ""
             }
            },
            "type": "scatterpolargl"
           }
          ],
          "scatterternary": [
           {
            "marker": {
             "colorbar": {
              "outlinewidth": 0,
              "ticks": ""
             }
            },
            "type": "scatterternary"
           }
          ],
          "surface": [
           {
            "colorbar": {
             "outlinewidth": 0,
             "ticks": ""
            },
            "colorscale": [
             [
              0,
              "#0d0887"
             ],
             [
              0.1111111111111111,
              "#46039f"
             ],
             [
              0.2222222222222222,
              "#7201a8"
             ],
             [
              0.3333333333333333,
              "#9c179e"
             ],
             [
              0.4444444444444444,
              "#bd3786"
             ],
             [
              0.5555555555555556,
              "#d8576b"
             ],
             [
              0.6666666666666666,
              "#ed7953"
             ],
             [
              0.7777777777777778,
              "#fb9f3a"
             ],
             [
              0.8888888888888888,
              "#fdca26"
             ],
             [
              1,
              "#f0f921"
             ]
            ],
            "type": "surface"
           }
          ],
          "table": [
           {
            "cells": {
             "fill": {
              "color": "#EBF0F8"
             },
             "line": {
              "color": "white"
             }
            },
            "header": {
             "fill": {
              "color": "#C8D4E3"
             },
             "line": {
              "color": "white"
             }
            },
            "type": "table"
           }
          ]
         },
         "layout": {
          "annotationdefaults": {
           "arrowcolor": "#2a3f5f",
           "arrowhead": 0,
           "arrowwidth": 1
          },
          "autotypenumbers": "strict",
          "coloraxis": {
           "colorbar": {
            "outlinewidth": 0,
            "ticks": ""
           }
          },
          "colorscale": {
           "diverging": [
            [
             0,
             "#8e0152"
            ],
            [
             0.1,
             "#c51b7d"
            ],
            [
             0.2,
             "#de77ae"
            ],
            [
             0.3,
             "#f1b6da"
            ],
            [
             0.4,
             "#fde0ef"
            ],
            [
             0.5,
             "#f7f7f7"
            ],
            [
             0.6,
             "#e6f5d0"
            ],
            [
             0.7,
             "#b8e186"
            ],
            [
             0.8,
             "#7fbc41"
            ],
            [
             0.9,
             "#4d9221"
            ],
            [
             1,
             "#276419"
            ]
           ],
           "sequential": [
            [
             0,
             "#0d0887"
            ],
            [
             0.1111111111111111,
             "#46039f"
            ],
            [
             0.2222222222222222,
             "#7201a8"
            ],
            [
             0.3333333333333333,
             "#9c179e"
            ],
            [
             0.4444444444444444,
             "#bd3786"
            ],
            [
             0.5555555555555556,
             "#d8576b"
            ],
            [
             0.6666666666666666,
             "#ed7953"
            ],
            [
             0.7777777777777778,
             "#fb9f3a"
            ],
            [
             0.8888888888888888,
             "#fdca26"
            ],
            [
             1,
             "#f0f921"
            ]
           ],
           "sequentialminus": [
            [
             0,
             "#0d0887"
            ],
            [
             0.1111111111111111,
             "#46039f"
            ],
            [
             0.2222222222222222,
             "#7201a8"
            ],
            [
             0.3333333333333333,
             "#9c179e"
            ],
            [
             0.4444444444444444,
             "#bd3786"
            ],
            [
             0.5555555555555556,
             "#d8576b"
            ],
            [
             0.6666666666666666,
             "#ed7953"
            ],
            [
             0.7777777777777778,
             "#fb9f3a"
            ],
            [
             0.8888888888888888,
             "#fdca26"
            ],
            [
             1,
             "#f0f921"
            ]
           ]
          },
          "colorway": [
           "#636efa",
           "#EF553B",
           "#00cc96",
           "#ab63fa",
           "#FFA15A",
           "#19d3f3",
           "#FF6692",
           "#B6E880",
           "#FF97FF",
           "#FECB52"
          ],
          "font": {
           "color": "#2a3f5f"
          },
          "geo": {
           "bgcolor": "white",
           "lakecolor": "white",
           "landcolor": "#E5ECF6",
           "showlakes": true,
           "showland": true,
           "subunitcolor": "white"
          },
          "hoverlabel": {
           "align": "left"
          },
          "hovermode": "closest",
          "mapbox": {
           "style": "light"
          },
          "paper_bgcolor": "white",
          "plot_bgcolor": "#E5ECF6",
          "polar": {
           "angularaxis": {
            "gridcolor": "white",
            "linecolor": "white",
            "ticks": ""
           },
           "bgcolor": "#E5ECF6",
           "radialaxis": {
            "gridcolor": "white",
            "linecolor": "white",
            "ticks": ""
           }
          },
          "scene": {
           "xaxis": {
            "backgroundcolor": "#E5ECF6",
            "gridcolor": "white",
            "gridwidth": 2,
            "linecolor": "white",
            "showbackground": true,
            "ticks": "",
            "zerolinecolor": "white"
           },
           "yaxis": {
            "backgroundcolor": "#E5ECF6",
            "gridcolor": "white",
            "gridwidth": 2,
            "linecolor": "white",
            "showbackground": true,
            "ticks": "",
            "zerolinecolor": "white"
           },
           "zaxis": {
            "backgroundcolor": "#E5ECF6",
            "gridcolor": "white",
            "gridwidth": 2,
            "linecolor": "white",
            "showbackground": true,
            "ticks": "",
            "zerolinecolor": "white"
           }
          },
          "shapedefaults": {
           "line": {
            "color": "#2a3f5f"
           }
          },
          "ternary": {
           "aaxis": {
            "gridcolor": "white",
            "linecolor": "white",
            "ticks": ""
           },
           "baxis": {
            "gridcolor": "white",
            "linecolor": "white",
            "ticks": ""
           },
           "bgcolor": "#E5ECF6",
           "caxis": {
            "gridcolor": "white",
            "linecolor": "white",
            "ticks": ""
           }
          },
          "title": {
           "x": 0.05
          },
          "xaxis": {
           "automargin": true,
           "gridcolor": "white",
           "linecolor": "white",
           "ticks": "",
           "title": {
            "standoff": 15
           },
           "zerolinecolor": "white",
           "zerolinewidth": 2
          },
          "yaxis": {
           "automargin": true,
           "gridcolor": "white",
           "linecolor": "white",
           "ticks": "",
           "title": {
            "standoff": 15
           },
           "zerolinecolor": "white",
           "zerolinewidth": 2
          }
         }
        },
        "xaxis": {
         "autorange": true,
         "range": [
          "2016-07-01 01:50",
          "2016-07-01 13:50"
         ],
         "type": "date"
        },
        "yaxis": {
         "autorange": true,
         "range": [
          23.744444444444444,
          72.85555555555555
         ],
         "type": "linear"
        }
       }
      },
      "image/png": "[encoded data removed]",
      "text/html": [
       "<div>                            <div id=\"eeeb615b-a1b7-49de-ad99-3e954e1a5681\" class=\"plotly-graph-div\" style=\"height:525px; width:100%;\"></div>            <script type=\"text/javascript\">                require([\"plotly\"], function(Plotly) {                    window.PLOTLYENV=window.PLOTLYENV || {};                                    if (document.getElementById(\"eeeb615b-a1b7-49de-ad99-3e954e1a5681\")) {                    Plotly.newPlot(                        \"eeeb615b-a1b7-49de-ad99-3e954e1a5681\",                        [{\"line\":{\"color\":\"blue\"},\"x\":[\"2016-07-01T01:50:00\",\"2016-07-01T01:55:00\",\"2016-07-01T02:00:00\",\"2016-07-01T02:05:00\",\"2016-07-01T02:10:00\",\"2016-07-01T02:15:00\",\"2016-07-01T02:20:00\",\"2016-07-01T02:25:00\",\"2016-07-01T02:30:00\",\"2016-07-01T02:35:00\",\"2016-07-01T02:40:00\",\"2016-07-01T02:45:00\",\"2016-07-01T02:50:00\",\"2016-07-01T02:55:00\",\"2016-07-01T03:00:00\",\"2016-07-01T03:05:00\",\"2016-07-01T03:10:00\",\"2016-07-01T03:15:00\",\"2016-07-01T03:20:00\",\"2016-07-01T03:25:00\",\"2016-07-01T03:30:00\",\"2016-07-01T03:35:00\",\"2016-07-01T03:40:00\",\"2016-07-01T03:45:00\",\"2016-07-01T03:50:00\",\"2016-07-01T03:55:00\",\"2016-07-01T04:00:00\",\"2016-07-01T04:05:00\",\"2016-07-01T04:10:00\",\"2016-07-01T04:15:00\",\"2016-07-01T04:20:00\",\"2016-07-01T04:25:00\",\"2016-07-01T04:30:00\",\"2016-07-01T04:35:00\",\"2016-07-01T04:40:00\",\"2016-07-01T04:45:00\",\"2016-07-01T04:50:00\",\"2016-07-01T04:55:00\",\"2016-07-01T05:00:00\",\"2016-07-01T05:05:00\",\"2016-07-01T05:10:00\",\"2016-07-01T05:15:00\",\"2016-07-01T05:20:00\",\"2016-07-01T05:25:00\",\"2016-07-01T05:30:00\",\"2016-07-01T05:35:00\",\"2016-07-01T05:40:00\",\"2016-07-01T05:45:00\",\"2016-07-01T05:50:00\",\"2016-07-01T05:55:00\",\"2016-07-01T06:00:00\",\"2016-07-01T06:05:00\",\"2016-07-01T06:10:00\",\"2016-07-01T06:15:00\",\"2016-07-01T06:20:00\",\"2016-07-01T06:25:00\",\"2016-07-01T06:30:00\",\"2016-07-01T06:35:00\",\"2016-07-01T06:40:00\",\"2016-07-01T06:45:00\",\"2016-07-01T06:50:00\",\"2016-07-01T06:55:00\",\"2016-07-01T07:00:00\",\"2016-07-01T07:05:00\",\"2016-07-01T07:10:00\",\"2016-07-01T07:15:00\",\"2016-07-01T07:20:00\",\"2016-07-01T07:25:00\",\"2016-07-01T07:30:00\",\"2016-07-01T07:35:00\",\"2016-07-01T07:40:00\",\"2016-07-01T07:45:00\",\"2016-07-01T07:50:00\",\"2016-07-01T07:55:00\",\"2016-07-01T08:00:00\",\"2016-07-01T08:05:00\",\"2016-07-01T08:10:00\",\"2016-07-01T08:15:00\",\"2016-07-01T08:20:00\",\"2016-07-01T08:25:00\",\"2016-07-01T08:30:00\",\"2016-07-01T08:35:00\",\"2016-07-01T08:40:00\",\"2016-07-01T08:45:00\",\"2016-07-01T08:50:00\",\"2016-07-01T08:55:00\",\"2016-07-01T09:00:00\",\"2016-07-01T09:05:00\",\"2016-07-01T09:10:00\",\"2016-07-01T09:15:00\",\"2016-07-01T09:20:00\",\"2016-07-01T09:25:00\",\"2016-07-01T09:30:00\",\"2016-07-01T09:35:00\",\"2016-07-01T09:40:00\",\"2016-07-01T09:45:00\",\"2016-07-01T09:50:00\",\"2016-07-01T09:55:00\",\"2016-07-01T10:00:00\",\"2016-07-01T10:05:00\",\"2016-07-01T10:10:00\",\"2016-07-01T10:15:00\",\"2016-07-01T10:20:00\",\"2016-07-01T10:25:00\",\"2016-07-01T10:30:00\",\"2016-07-01T10:35:00\",\"2016-07-01T10:40:00\",\"2016-07-01T10:45:00\",\"2016-07-01T10:50:00\",\"2016-07-01T10:55:00\",\"2016-07-01T11:00:00\",\"2016-07-01T11:05:00\",\"2016-07-01T11:10:00\",\"2016-07-01T11:15:00\",\"2016-07-01T11:20:00\",\"2016-07-01T11:25:00\",\"2016-07-01T11:30:00\",\"2016-07-01T11:35:00\",\"2016-07-01T11:40:00\",\"2016-07-01T11:45:00\",\"2016-07-01T11:50:00\",\"2016-07-01T11:55:00\",\"2016-07-01T12:00:00\",\"2016-07-01T12:05:00\",\"2016-07-01T12:10:00\",\"2016-07-01T12:15:00\",\"2016-07-01T12:20:00\",\"2016-07-01T12:25:00\",\"2016-07-01T12:30:00\",\"2016-07-01T12:35:00\",\"2016-07-01T12:40:00\",\"2016-07-01T12:45:00\",\"2016-07-01T12:50:00\",\"2016-07-01T12:55:00\",\"2016-07-01T13:00:00\",\"2016-07-01T13:05:00\",\"2016-07-01T13:10:00\",\"2016-07-01T13:15:00\",\"2016-07-01T13:20:00\",\"2016-07-01T13:25:00\",\"2016-07-01T13:30:00\",\"2016-07-01T13:35:00\",\"2016-07-01T13:40:00\",\"2016-07-01T13:45:00\",\"2016-07-01T13:50:00\"],\"y\":[68.7,69.1,69.0,68.5,67.7,68.1,68.5,67.0,66.8,68.6,68.2,66.5,66.7,68.6,67.1,68.7,67.5,68.3,69.1,68.6,68.3,70.4,69.2,67.4,67.0,67.9,68.0,67.4,66.9,66.3,66.8,67.7,68.3,64.3,65.4,67.0,65.5,67.0,68.1,67.9,68.1,67.6,68.3,66.2,67.6,69.3,67.5,68.5,66.8,66.8,67.5,66.8,67.1,65.1,65.1,65.2,65.3,64.3,64.0,62.7,63.1,63.1,64.1,65.0,64.4,63.6,62.6,63.5,62.9,63.0,63.8,62.0,57.9,52.1,46.1,39.5,35.3,31.6,29.5,27.9,26.2,26.5,35.0,40.5,39.8,44.8,53.1,56.8,59.0,61.5,61.6,61.3,61.9,61.8,61.7,62.7,62.1,62.7,63.5,62.8,62.1,61.5,62.8,63.0,62.1,62.8,61.7,61.4,63.1,63.1,61.2,61.3,61.3,61.0,59.7,60.7,60.3,61.3,61.7,61.8,61.6,60.6,60.8,61.3,60.8,60.4,61.4,62.8,61.1,60.0,59.0,59.2,61.2,62.2,61.6,62.5,61.2,60.7,60.9,61.2,62.1,61.3,61.0,60.5,61.4],\"type\":\"scattergl\"},{\"line\":{\"color\":\"red\"},\"x\":[\"2016-07-01T01:50:00\",\"2016-07-01T01:55:00\",\"2016-07-01T02:00:00\",\"2016-07-01T02:05:00\",\"2016-07-01T02:10:00\",\"2016-07-01T02:15:00\",\"2016-07-01T02:20:00\",\"2016-07-01T02:25:00\",\"2016-07-01T02:30:00\",\"2016-07-01T02:35:00\",\"2016-07-01T02:40:00\",\"2016-07-01T02:45:00\",\"2016-07-01T02:50:00\",\"2016-07-01T02:55:00\",\"2016-07-01T03:00:00\",\"2016-07-01T03:05:00\",\"2016-07-01T03:10:00\",\"2016-07-01T03:15:00\",\"2016-07-01T03:20:00\",\"2016-07-01T03:25:00\",\"2016-07-01T03:30:00\",\"2016-07-01T03:35:00\",\"2016-07-01T03:40:00\",\"2016-07-01T03:45:00\",\"2016-07-01T03:50:00\",\"2016-07-01T03:55:00\",\"2016-07-01T04:00:00\",\"2016-07-01T04:05:00\",\"2016-07-01T04:10:00\",\"2016-07-01T04:15:00\",\"2016-07-01T04:20:00\",\"2016-07-01T04:25:00\",\"2016-07-01T04:30:00\",\"2016-07-01T04:35:00\",\"2016-07-01T04:40:00\",\"2016-07-01T04:45:00\",\"2016-07-01T04:50:00\",\"2016-07-01T04:55:00\",\"2016-07-01T05:00:00\",\"2016-07-01T05:05:00\",\"2016-07-01T05:10:00\",\"2016-07-01T05:15:00\",\"2016-07-01T05:20:00\",\"2016-07-01T05:25:00\",\"2016-07-01T05:30:00\",\"2016-07-01T05:35:00\",\"2016-07-01T05:40:00\",\"2016-07-01T05:45:00\",\"2016-07-01T05:50:00\",\"2016-07-01T05:55:00\",\"2016-07-01T06:00:00\",\"2016-07-01T06:05:00\",\"2016-07-01T06:10:00\",\"2016-07-01T06:15:00\",\"2016-07-01T06:20:00\",\"2016-07-01T06:25:00\",\"2016-07-01T06:30:00\",\"2016-07-01T06:35:00\",\"2016-07-01T06:40:00\",\"2016-07-01T06:45:00\",\"2016-07-01T06:50:00\",\"2016-07-01T06:55:00\",\"2016-07-01T07:00:00\",\"2016-07-01T07:05:00\",\"2016-07-01T07:10:00\",\"2016-07-01T07:15:00\",\"2016-07-01T07:20:00\",\"2016-07-01T07:25:00\",\"2016-07-01T07:30:00\",\"2016-07-01T07:35:00\",\"2016-07-01T07:40:00\",\"2016-07-01T07:45:00\",\"2016-07-01T07:50:00\",\"2016-07-01T07:55:00\",\"2016-07-01T08:00:00\",\"2016-07-01T08:05:00\",\"2016-07-01T08:10:00\",\"2016-07-01T08:15:00\",\"2016-07-01T08:20:00\",\"2016-07-01T08:25:00\",\"2016-07-01T08:30:00\",\"2016-07-01T08:35:00\",\"2016-07-01T08:40:00\",\"2016-07-01T08:45:00\",\"2016-07-01T08:50:00\",\"2016-07-01T08:55:00\",\"2016-07-01T09:00:00\",\"2016-07-01T09:05:00\",\"2016-07-01T09:10:00\",\"2016-07-01T09:15:00\",\"2016-07-01T09:20:00\",\"2016-07-01T09:25:00\",\"2016-07-01T09:30:00\",\"2016-07-01T09:35:00\",\"2016-07-01T09:40:00\",\"2016-07-01T09:45:00\",\"2016-07-01T09:50:00\",\"2016-07-01T09:55:00\",\"2016-07-01T10:00:00\",\"2016-07-01T10:05:00\",\"2016-07-01T10:10:00\",\"2016-07-01T10:15:00\",\"2016-07-01T10:20:00\",\"2016-07-01T10:25:00\",\"2016-07-01T10:30:00\",\"2016-07-01T10:35:00\",\"2016-07-01T10:40:00\",\"2016-07-01T10:45:00\",\"2016-07-01T10:50:00\",\"2016-07-01T10:55:00\",\"2016-07-01T11:00:00\",\"2016-07-01T11:05:00\",\"2016-07-01T11:10:00\",\"2016-07-01T11:15:00\",\"2016-07-01T11:20:00\",\"2016-07-01T11:25:00\",\"2016-07-01T11:30:00\",\"2016-07-01T11:35:00\",\"2016-07-01T11:40:00\",\"2016-07-01T11:45:00\",\"2016-07-01T11:50:00\",\"2016-07-01T11:55:00\",\"2016-07-01T12:00:00\",\"2016-07-01T12:05:00\",\"2016-07-01T12:10:00\",\"2016-07-01T12:15:00\",\"2016-07-01T12:20:00\",\"2016-07-01T12:25:00\",\"2016-07-01T12:30:00\",\"2016-07-01T12:35:00\",\"2016-07-01T12:40:00\",\"2016-07-01T12:45:00\",\"2016-07-01T12:50:00\",\"2016-07-01T12:55:00\",\"2016-07-01T13:00:00\",\"2016-07-01T13:05:00\",\"2016-07-01T13:10:00\",\"2016-07-01T13:15:00\",\"2016-07-01T13:20:00\",\"2016-07-01T13:25:00\",\"2016-07-01T13:30:00\",\"2016-07-01T13:35:00\",\"2016-07-01T13:40:00\",\"2016-07-01T13:45:00\",\"2016-07-01T13:50:00\"],\"y\":[null,null,null,null,null,null,null,null,null,null,null,null,null,null,null,null,null,null,null,null,null,null,null,null,null,null,null,null,null,null,null,null,null,null,null,null,null,null,null,null,null,null,null,null,null,null,null,null,null,null,null,null,null,null,null,null,null,null,null,null,null,null,null,null,null,null,null,null,null,null,null,null,null,null,46.1,39.5,35.3,31.6,29.5,27.9,26.2,26.5,35.0,40.5,39.8,44.8,null,null,null,null,null,null,null,null,null,null,null,null,null,null,null,null,null,null,null,null,null,null,null,null,null,null,null,null,null,null,null,null,null,null,null,null,null,null,null,null,null,null,null,null,null,null,null,null,null,null,null,null,null,null,null,null,null,null,null],\"type\":\"scattergl\"}],                        {\"template\":{\"data\":{\"histogram2dcontour\":[{\"type\":\"histogram2dcontour\",\"colorbar\":{\"outlinewidth\":0,\"ticks\":\"\"},\"colorscale\":[[0.0,\"#0d0887\"],[0.1111111111111111,\"#46039f\"],[0.2222222222222222,\"#7201a8\"],[0.3333333333333333,\"#9c179e\"],[0.4444444444444444,\"#bd3786\"],[0.5555555555555556,\"#d8576b\"],[0.6666666666666666,\"#ed7953\"],[0.7777777777777778,\"#fb9f3a\"],[0.8888888888888888,\"#fdca26\"],[1.0,\"#f0f921\"]]}],\"choropleth\":[{\"type\":\"choropleth\",\"colorbar\":{\"outlinewidth\":0,\"ticks\":\"\"}}],\"histogram2d\":[{\"type\":\"histogram2d\",\"colorbar\":{\"outlinewidth\":0,\"ticks\":\"\"},\"colorscale\":[[0.0,\"#0d0887\"],[0.1111111111111111,\"#46039f\"],[0.2222222222222222,\"#7201a8\"],[0.3333333333333333,\"#9c179e\"],[0.4444444444444444,\"#bd3786\"],[0.5555555555555556,\"#d8576b\"],[0.6666666666666666,\"#ed7953\"],[0.7777777777777778,\"#fb9f3a\"],[0.8888888888888888,\"#fdca26\"],[1.0,\"#f0f921\"]]}],\"heatmap\":[{\"type\":\"heatmap\",\"colorbar\":{\"outlinewidth\":0,\"ticks\":\"\"},\"colorscale\":[[0.0,\"#0d0887\"],[0.1111111111111111,\"#46039f\"],[0.2222222222222222,\"#7201a8\"],[0.3333333333333333,\"#9c179e\"],[0.4444444444444444,\"#bd3786\"],[0.5555555555555556,\"#d8576b\"],[0.6666666666666666,\"#ed7953\"],[0.7777777777777778,\"#fb9f3a\"],[0.8888888888888888,\"#fdca26\"],[1.0,\"#f0f921\"]]}],\"heatmapgl\":[{\"type\":\"heatmapgl\",\"colorbar\":{\"outlinewidth\":0,\"ticks\":\"\"},\"colorscale\":[[0.0,\"#0d0887\"],[0.1111111111111111,\"#46039f\"],[0.2222222222222222,\"#7201a8\"],[0.3333333333333333,\"#9c179e\"],[0.4444444444444444,\"#bd3786\"],[0.5555555555555556,\"#d8576b\"],[0.6666666666666666,\"#ed7953\"],[0.7777777777777778,\"#fb9f3a\"],[0.8888888888888888,\"#fdca26\"],[1.0,\"#f0f921\"]]}],\"contourcarpet\":[{\"type\":\"contourcarpet\",\"colorbar\":{\"outlinewidth\":0,\"ticks\":\"\"}}],\"contour\":[{\"type\":\"contour\",\"colorbar\":{\"outlinewidth\":0,\"ticks\":\"\"},\"colorscale\":[[0.0,\"#0d0887\"],[0.1111111111111111,\"#46039f\"],[0.2222222222222222,\"#7201a8\"],[0.3333333333333333,\"#9c179e\"],[0.4444444444444444,\"#bd3786\"],[0.5555555555555556,\"#d8576b\"],[0.6666666666666666,\"#ed7953\"],[0.7777777777777778,\"#fb9f3a\"],[0.8888888888888888,\"#fdca26\"],[1.0,\"#f0f921\"]]}],\"surface\":[{\"type\":\"surface\",\"colorbar\":{\"outlinewidth\":0,\"ticks\":\"\"},\"colorscale\":[[0.0,\"#0d0887\"],[0.1111111111111111,\"#46039f\"],[0.2222222222222222,\"#7201a8\"],[0.3333333333333333,\"#9c179e\"],[0.4444444444444444,\"#bd3786\"],[0.5555555555555556,\"#d8576b\"],[0.6666666666666666,\"#ed7953\"],[0.7777777777777778,\"#fb9f3a\"],[0.8888888888888888,\"#fdca26\"],[1.0,\"#f0f921\"]]}],\"mesh3d\":[{\"type\":\"mesh3d\",\"colorbar\":{\"outlinewidth\":0,\"ticks\":\"\"}}],\"scatter\":[{\"fillpattern\":{\"fillmode\":\"overlay\",\"size\":10,\"solidity\":0.2},\"type\":\"scatter\"}],\"parcoords\":[{\"type\":\"parcoords\",\"line\":{\"colorbar\":{\"outlinewidth\":0,\"ticks\":\"\"}}}],\"scatterpolargl\":[{\"type\":\"scatterpolargl\",\"marker\":{\"colorbar\":{\"outlinewidth\":0,\"ticks\":\"\"}}}],\"bar\":[{\"error_x\":{\"color\":\"#2a3f5f\"},\"error_y\":{\"color\":\"#2a3f5f\"},\"marker\":{\"line\":{\"color\":\"#E5ECF6\",\"width\":0.5},\"pattern\":{\"fillmode\":\"overlay\",\"size\":10,\"solidity\":0.2}},\"type\":\"bar\"}],\"scattergeo\":[{\"type\":\"scattergeo\",\"marker\":{\"colorbar\":{\"outlinewidth\":0,\"ticks\":\"\"}}}],\"scatterpolar\":[{\"type\":\"scatterpolar\",\"marker\":{\"colorbar\":{\"outlinewidth\":0,\"ticks\":\"\"}}}],\"histogram\":[{\"marker\":{\"pattern\":{\"fillmode\":\"overlay\",\"size\":10,\"solidity\":0.2}},\"type\":\"histogram\"}],\"scattergl\":[{\"type\":\"scattergl\",\"marker\":{\"colorbar\":{\"outlinewidth\":0,\"ticks\":\"\"}}}],\"scatter3d\":[{\"type\":\"scatter3d\",\"line\":{\"colorbar\":{\"outlinewidth\":0,\"ticks\":\"\"}},\"marker\":{\"colorbar\":{\"outlinewidth\":0,\"ticks\":\"\"}}}],\"scattermapbox\":[{\"type\":\"scattermapbox\",\"marker\":{\"colorbar\":{\"outlinewidth\":0,\"ticks\":\"\"}}}],\"scatterternary\":[{\"type\":\"scatterternary\",\"marker\":{\"colorbar\":{\"outlinewidth\":0,\"ticks\":\"\"}}}],\"scattercarpet\":[{\"type\":\"scattercarpet\",\"marker\":{\"colorbar\":{\"outlinewidth\":0,\"ticks\":\"\"}}}],\"carpet\":[{\"aaxis\":{\"endlinecolor\":\"#2a3f5f\",\"gridcolor\":\"white\",\"linecolor\":\"white\",\"minorgridcolor\":\"white\",\"startlinecolor\":\"#2a3f5f\"},\"baxis\":{\"endlinecolor\":\"#2a3f5f\",\"gridcolor\":\"white\",\"linecolor\":\"white\",\"minorgridcolor\":\"white\",\"startlinecolor\":\"#2a3f5f\"},\"type\":\"carpet\"}],\"table\":[{\"cells\":{\"fill\":{\"color\":\"#EBF0F8\"},\"line\":{\"color\":\"white\"}},\"header\":{\"fill\":{\"color\":\"#C8D4E3\"},\"line\":{\"color\":\"white\"}},\"type\":\"table\"}],\"barpolar\":[{\"marker\":{\"line\":{\"color\":\"#E5ECF6\",\"width\":0.5},\"pattern\":{\"fillmode\":\"overlay\",\"size\":10,\"solidity\":0.2}},\"type\":\"barpolar\"}],\"pie\":[{\"automargin\":true,\"type\":\"pie\"}]},\"layout\":{\"autotypenumbers\":\"strict\",\"colorway\":[\"#636efa\",\"#EF553B\",\"#00cc96\",\"#ab63fa\",\"#FFA15A\",\"#19d3f3\",\"#FF6692\",\"#B6E880\",\"#FF97FF\",\"#FECB52\"],\"font\":{\"color\":\"#2a3f5f\"},\"hovermode\":\"closest\",\"hoverlabel\":{\"align\":\"left\"},\"paper_bgcolor\":\"white\",\"plot_bgcolor\":\"#E5ECF6\",\"polar\":{\"bgcolor\":\"#E5ECF6\",\"angularaxis\":{\"gridcolor\":\"white\",\"linecolor\":\"white\",\"ticks\":\"\"},\"radialaxis\":{\"gridcolor\":\"white\",\"linecolor\":\"white\",\"ticks\":\"\"}},\"ternary\":{\"bgcolor\":\"#E5ECF6\",\"aaxis\":{\"gridcolor\":\"white\",\"linecolor\":\"white\",\"ticks\":\"\"},\"baxis\":{\"gridcolor\":\"white\",\"linecolor\":\"white\",\"ticks\":\"\"},\"caxis\":{\"gridcolor\":\"white\",\"linecolor\":\"white\",\"ticks\":\"\"}},\"coloraxis\":{\"colorbar\":{\"outlinewidth\":0,\"ticks\":\"\"}},\"colorscale\":{\"sequential\":[[0.0,\"#0d0887\"],[0.1111111111111111,\"#46039f\"],[0.2222222222222222,\"#7201a8\"],[0.3333333333333333,\"#9c179e\"],[0.4444444444444444,\"#bd3786\"],[0.5555555555555556,\"#d8576b\"],[0.6666666666666666,\"#ed7953\"],[0.7777777777777778,\"#fb9f3a\"],[0.8888888888888888,\"#fdca26\"],[1.0,\"#f0f921\"]],\"sequentialminus\":[[0.0,\"#0d0887\"],[0.1111111111111111,\"#46039f\"],[0.2222222222222222,\"#7201a8\"],[0.3333333333333333,\"#9c179e\"],[0.4444444444444444,\"#bd3786\"],[0.5555555555555556,\"#d8576b\"],[0.6666666666666666,\"#ed7953\"],[0.7777777777777778,\"#fb9f3a\"],[0.8888888888888888,\"#fdca26\"],[1.0,\"#f0f921\"]],\"diverging\":[[0,\"#8e0152\"],[0.1,\"#c51b7d\"],[0.2,\"#de77ae\"],[0.3,\"#f1b6da\"],[0.4,\"#fde0ef\"],[0.5,\"#f7f7f7\"],[0.6,\"#e6f5d0\"],[0.7,\"#b8e186\"],[0.8,\"#7fbc41\"],[0.9,\"#4d9221\"],[1,\"#276419\"]]},\"xaxis\":{\"gridcolor\":\"white\",\"linecolor\":\"white\",\"ticks\":\"\",\"title\":{\"standoff\":15},\"zerolinecolor\":\"white\",\"automargin\":true,\"zerolinewidth\":2},\"yaxis\":{\"gridcolor\":\"white\",\"linecolor\":\"white\",\"ticks\":\"\",\"title\":{\"standoff\":15},\"zerolinecolor\":\"white\",\"automargin\":true,\"zerolinewidth\":2},\"scene\":{\"xaxis\":{\"backgroundcolor\":\"#E5ECF6\",\"gridcolor\":\"white\",\"linecolor\":\"white\",\"showbackground\":true,\"ticks\":\"\",\"zerolinecolor\":\"white\",\"gridwidth\":2},\"yaxis\":{\"backgroundcolor\":\"#E5ECF6\",\"gridcolor\":\"white\",\"linecolor\":\"white\",\"showbackground\":true,\"ticks\":\"\",\"zerolinecolor\":\"white\",\"gridwidth\":2},\"zaxis\":{\"backgroundcolor\":\"#E5ECF6\",\"gridcolor\":\"white\",\"linecolor\":\"white\",\"showbackground\":true,\"ticks\":\"\",\"zerolinecolor\":\"white\",\"gridwidth\":2}},\"shapedefaults\":{\"line\":{\"color\":\"#2a3f5f\"}},\"annotationdefaults\":{\"arrowcolor\":\"#2a3f5f\",\"arrowhead\":0,\"arrowwidth\":1},\"geo\":{\"bgcolor\":\"white\",\"landcolor\":\"#E5ECF6\",\"subunitcolor\":\"white\",\"showland\":true,\"showlakes\":true,\"lakecolor\":\"white\"},\"title\":{\"x\":0.05},\"mapbox\":{\"style\":\"light\"}}}},                        {\"responsive\": true}                    ).then(function(){\n",
       "                            \n",
       "var gd = document.getElementById('eeeb615b-a1b7-49de-ad99-3e954e1a5681');\n",
       "var x = new MutationObserver(function (mutations, observer) {{\n",
       "        var display = window.getComputedStyle(gd).display;\n",
       "        if (!display || display === 'none') {{\n",
       "            console.log([gd, 'removed!']);\n",
       "            Plotly.purge(gd);\n",
       "            observer.disconnect();\n",
       "        }}\n",
       "}});\n",
       "\n",
       "// Listen for the removal of the full notebook cells\n",
       "var notebookContainer = gd.closest('#notebook-container');\n",
       "if (notebookContainer) {{\n",
       "    x.observe(notebookContainer, {childList: true});\n",
       "}}\n",
       "\n",
       "// Listen for the clearing of the current output cell\n",
       "var outputEl = gd.closest('.output');\n",
       "if (outputEl) {{\n",
       "    x.observe(outputEl, {childList: true});\n",
       "}}\n",
       "\n",
       "                        })                };                });            </script>        </div>"
      ]
     },
     "metadata": {},
     "output_type": "display_data"
    }
   ],
   "source": [
    "fig = go.Figure()\n",
    "fig.add_scattergl(x=result[\"timestamp\"], y=result[\"speed\"], line={'color': 'blue'})\n",
    "fig.add_scattergl(x = result[\"timestamp\"], y = result[\"speed\"].where(result[\"svm_result\"] == 1), line ={'color' : 'red'})\n",
    "fig.show()"
   ]
  },
  {
   "cell_type": "code",
   "execution_count": 17,
   "id": "bafb6b0d-a09f-42f6-80e5-b3c743c9a92c",
   "metadata": {
    "tags": []
   },
   "outputs": [
    {
     "name": "stdout",
     "output_type": "stream",
     "text": [
      "0.9\n"
     ]
    }
   ],
   "source": [
    "def dr_score(list):\n",
    "    No_of_congestions_detected=0\n",
    "    No_of_true_congestions=len(list)\n",
    "    for x in list:\n",
    "        result=svm_result(x)\n",
    "        if result.query('1== svm_result and 1 ==current').shape[0]>1:\n",
    "            No_of_congestions_detected+=1\n",
    "    return(No_of_congestions_detected/No_of_true_congestions)\n",
    "            \n",
    "print(dr_score(acident_index_test)) "
   ]
  },
  {
   "cell_type": "code",
   "execution_count": 18,
   "id": "86e7ed18-61dc-4f78-a1e1-b3a0aaff0a1d",
   "metadata": {
    "tags": []
   },
   "outputs": [
    {
     "name": "stdout",
     "output_type": "stream",
     "text": [
      "0.03204047217537943\n"
     ]
    }
   ],
   "source": [
    "def far(list):\n",
    "    No_of_false_alarms_signals=0\n",
    "    No_of_non_congestion_instances=0\n",
    "    for x in list:\n",
    "        result=svm_result(x)\n",
    "        No_of_non_congestion_instances+=result.query('0 ==current').shape[0]\n",
    "        if result.query('1== svm_result and 0 ==current').shape[0]>1:\n",
    "            No_of_false_alarms_signals+=result.query('1== svm_result and 0 ==current').shape[0]\n",
    "    return(No_of_false_alarms_signals/No_of_non_congestion_instances)\n",
    "            \n",
    "print(far(acident_index_test))"
   ]
  },
  {
   "cell_type": "code",
   "execution_count": 19,
   "id": "0143eba4-f842-4fb8-9d0b-9927d271a179",
   "metadata": {
    "tags": []
   },
   "outputs": [
    {
     "name": "stdout",
     "output_type": "stream",
     "text": [
      "3.888888888888889\n"
     ]
    }
   ],
   "source": [
    "def MTTD(list):\n",
    "    No_of_congestions_detected=0\n",
    "    sum_of_time=0\n",
    "    for x in list:\n",
    "        result=svm_result(x)\n",
    "        if result.query('1== svm_result and 1 ==current').shape[0]>1:\n",
    "            sum_of_time+=(result[(result.svm_result == 1) &(result.current == 1)].iloc[0][\"timestamp\"]-incident.at[x,'timestamp']).total_seconds() / 60\n",
    "            No_of_congestions_detected+=1\n",
    "    return(sum_of_time/No_of_congestions_detected)        \n",
    "print(MTTD(acident_index_test))"
   ]
  }
 ],
 "metadata": {
  "kernelspec": {
   "display_name": "Python 3 (ipykernel)",
   "language": "python",
   "name": "python3"
  },
  "language_info": {
   "codemirror_mode": {
    "name": "ipython",
    "version": 3
   },
   "file_extension": ".py",
   "mimetype": "text/x-python",
   "name": "python",
   "nbconvert_exporter": "python",
   "pygments_lexer": "ipython3",
   "version": "3.10.12"
  }
 },
 "nbformat": 4,
 "nbformat_minor": 5
}
